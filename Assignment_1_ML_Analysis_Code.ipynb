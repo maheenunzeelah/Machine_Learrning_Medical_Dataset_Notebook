{
 "cells": [
  {
   "cell_type": "code",
   "execution_count": 62,
   "id": "1696e652",
   "metadata": {},
   "outputs": [],
   "source": [
    "import numpy as np\n",
    "import pandas as pd\n",
    "import matplotlib.pyplot as plt\n",
    "%matplotlib inline\n",
    "import seaborn as sns\n",
    "import warnings\n",
    "warnings.filterwarnings('ignore')\n",
    "from sklearn.feature_selection import SelectKBest\n",
    "from sklearn.feature_selection import chi2\n",
    "from sklearn.preprocessing import LabelEncoder, OneHotEncoder, StandardScaler #for train test splitting\n",
    "from sklearn.model_selection import train_test_split, learning_curve, cross_val_score#for decision tree object\n",
    "from sklearn.compose import ColumnTransformer\n",
    "from sklearn.metrics import  accuracy_score,classification_report, confusion_matrix  #for visualizing tree \n",
    "import datetime"
   ]
  },
  {
   "cell_type": "code",
   "execution_count": 29,
   "id": "fc4d5687",
   "metadata": {},
   "outputs": [],
   "source": [
    "sh1_df=pd.read_excel(\"DataSet_DS_ML.xlsx\", header=1,sheet_name=0)\n",
    "sh2_df=pd.read_excel(\"DataSet_DS_ML.xlsx\", header=1,sheet_name=1)\n",
    "sh3_df=pd.read_excel(\"DataSet_DS_ML.xlsx\", header=1,sheet_name=2)\n",
    "sh4_df=pd.read_excel(\"DataSet_DS_ML.xlsx\", header=1,sheet_name=3)"
   ]
  },
  {
   "cell_type": "code",
   "execution_count": 30,
   "id": "4f169102",
   "metadata": {},
   "outputs": [
    {
     "data": {
      "text/html": [
       "<div>\n",
       "<style scoped>\n",
       "    .dataframe tbody tr th:only-of-type {\n",
       "        vertical-align: middle;\n",
       "    }\n",
       "\n",
       "    .dataframe tbody tr th {\n",
       "        vertical-align: top;\n",
       "    }\n",
       "\n",
       "    .dataframe thead th {\n",
       "        text-align: right;\n",
       "    }\n",
       "</style>\n",
       "<table border=\"1\" class=\"dataframe\">\n",
       "  <thead>\n",
       "    <tr style=\"text-align: right;\">\n",
       "      <th></th>\n",
       "      <th>Patient Name</th>\n",
       "      <th>Gender</th>\n",
       "      <th>Patient ID</th>\n",
       "      <th>Date</th>\n",
       "      <th>Age</th>\n",
       "      <th>Medicine Overdose</th>\n",
       "      <th>Medicine Overdose.1</th>\n",
       "      <th>Type</th>\n",
       "      <th>Temperature</th>\n",
       "      <th>Heart Rate</th>\n",
       "      <th>Pulse</th>\n",
       "      <th>BPSYSTOLIC</th>\n",
       "      <th>BPDIA</th>\n",
       "      <th>Respiratory Rate</th>\n",
       "      <th>Causes Respiratory Imbalance</th>\n",
       "    </tr>\n",
       "  </thead>\n",
       "  <tbody>\n",
       "    <tr>\n",
       "      <th>0</th>\n",
       "      <td>Amelia Nixon</td>\n",
       "      <td>female</td>\n",
       "      <td>400</td>\n",
       "      <td>2019-07-15</td>\n",
       "      <td>40</td>\n",
       "      <td>False</td>\n",
       "      <td>0</td>\n",
       "      <td>0</td>\n",
       "      <td>98</td>\n",
       "      <td>69</td>\n",
       "      <td>66</td>\n",
       "      <td>92</td>\n",
       "      <td>60</td>\n",
       "      <td>15</td>\n",
       "      <td>Normal</td>\n",
       "    </tr>\n",
       "    <tr>\n",
       "      <th>1</th>\n",
       "      <td>Clara Hicks</td>\n",
       "      <td>female</td>\n",
       "      <td>401</td>\n",
       "      <td>2019-12-22</td>\n",
       "      <td>38</td>\n",
       "      <td>True</td>\n",
       "      <td>1</td>\n",
       "      <td>1</td>\n",
       "      <td>98</td>\n",
       "      <td>63</td>\n",
       "      <td>66</td>\n",
       "      <td>94</td>\n",
       "      <td>75</td>\n",
       "      <td>16</td>\n",
       "      <td>Mild</td>\n",
       "    </tr>\n",
       "    <tr>\n",
       "      <th>2</th>\n",
       "      <td>Mason Brown</td>\n",
       "      <td>male</td>\n",
       "      <td>402</td>\n",
       "      <td>2019-06-02</td>\n",
       "      <td>37</td>\n",
       "      <td>False</td>\n",
       "      <td>0</td>\n",
       "      <td>0</td>\n",
       "      <td>98</td>\n",
       "      <td>60</td>\n",
       "      <td>60</td>\n",
       "      <td>92</td>\n",
       "      <td>73</td>\n",
       "      <td>15</td>\n",
       "      <td>Normal</td>\n",
       "    </tr>\n",
       "    <tr>\n",
       "      <th>3</th>\n",
       "      <td>Michael Rice</td>\n",
       "      <td>male</td>\n",
       "      <td>403</td>\n",
       "      <td>2019-01-26</td>\n",
       "      <td>44</td>\n",
       "      <td>True</td>\n",
       "      <td>1</td>\n",
       "      <td>1</td>\n",
       "      <td>99</td>\n",
       "      <td>76</td>\n",
       "      <td>61</td>\n",
       "      <td>111</td>\n",
       "      <td>60</td>\n",
       "      <td>16</td>\n",
       "      <td>Mild</td>\n",
       "    </tr>\n",
       "    <tr>\n",
       "      <th>4</th>\n",
       "      <td>Eleanor Ritter</td>\n",
       "      <td>female</td>\n",
       "      <td>404</td>\n",
       "      <td>2019-01-24</td>\n",
       "      <td>39</td>\n",
       "      <td>True</td>\n",
       "      <td>1</td>\n",
       "      <td>1</td>\n",
       "      <td>99</td>\n",
       "      <td>86</td>\n",
       "      <td>62</td>\n",
       "      <td>104</td>\n",
       "      <td>69</td>\n",
       "      <td>13</td>\n",
       "      <td>Mild</td>\n",
       "    </tr>\n",
       "  </tbody>\n",
       "</table>\n",
       "</div>"
      ],
      "text/plain": [
       "     Patient Name  Gender  Patient ID       Date  Age  Medicine Overdose  \\\n",
       "0    Amelia Nixon  female         400 2019-07-15   40              False   \n",
       "1     Clara Hicks  female         401 2019-12-22   38               True   \n",
       "2     Mason Brown    male         402 2019-06-02   37              False   \n",
       "3    Michael Rice    male         403 2019-01-26   44               True   \n",
       "4  Eleanor Ritter  female         404 2019-01-24   39               True   \n",
       "\n",
       "   Medicine Overdose.1  Type  Temperature  Heart Rate  Pulse  BPSYSTOLIC  \\\n",
       "0                    0     0           98          69     66          92   \n",
       "1                    1     1           98          63     66          94   \n",
       "2                    0     0           98          60     60          92   \n",
       "3                    1     1           99          76     61         111   \n",
       "4                    1     1           99          86     62         104   \n",
       "\n",
       "   BPDIA  Respiratory Rate Causes Respiratory Imbalance  \n",
       "0     60                15                       Normal  \n",
       "1     75                16                         Mild  \n",
       "2     73                15                       Normal  \n",
       "3     60                16                         Mild  \n",
       "4     69                13                         Mild  "
      ]
     },
     "execution_count": 30,
     "metadata": {},
     "output_type": "execute_result"
    }
   ],
   "source": [
    "sh1_df.head()"
   ]
  },
  {
   "cell_type": "code",
   "execution_count": 31,
   "id": "410925df",
   "metadata": {},
   "outputs": [
    {
     "name": "stdout",
     "output_type": "stream",
     "text": [
      "<class 'pandas.core.frame.DataFrame'>\n",
      "RangeIndex: 2000 entries, 0 to 1999\n",
      "Data columns (total 15 columns):\n",
      " #   Column                        Non-Null Count  Dtype         \n",
      "---  ------                        --------------  -----         \n",
      " 0   Patient Name                  2000 non-null   object        \n",
      " 1   Gender                        2000 non-null   object        \n",
      " 2   Patient ID                    2000 non-null   int64         \n",
      " 3   Date                          2000 non-null   datetime64[ns]\n",
      " 4   Age                           2000 non-null   int64         \n",
      " 5   Medicine Overdose             2000 non-null   bool          \n",
      " 6   Medicine Overdose.1           2000 non-null   int64         \n",
      " 7   Type                          2000 non-null   int64         \n",
      " 8   Temperature                   2000 non-null   int64         \n",
      " 9   Heart Rate                    2000 non-null   int64         \n",
      " 10  Pulse                         2000 non-null   int64         \n",
      " 11  BPSYSTOLIC                    2000 non-null   int64         \n",
      " 12  BPDIA                         2000 non-null   int64         \n",
      " 13  Respiratory Rate              2000 non-null   int64         \n",
      " 14  Causes Respiratory Imbalance  2000 non-null   object        \n",
      "dtypes: bool(1), datetime64[ns](1), int64(10), object(3)\n",
      "memory usage: 220.8+ KB\n"
     ]
    }
   ],
   "source": [
    "sh1_df.info()"
   ]
  },
  {
   "cell_type": "code",
   "execution_count": 32,
   "id": "f0dc0b8b",
   "metadata": {},
   "outputs": [
    {
     "data": {
      "text/html": [
       "<div>\n",
       "<style scoped>\n",
       "    .dataframe tbody tr th:only-of-type {\n",
       "        vertical-align: middle;\n",
       "    }\n",
       "\n",
       "    .dataframe tbody tr th {\n",
       "        vertical-align: top;\n",
       "    }\n",
       "\n",
       "    .dataframe thead th {\n",
       "        text-align: right;\n",
       "    }\n",
       "</style>\n",
       "<table border=\"1\" class=\"dataframe\">\n",
       "  <thead>\n",
       "    <tr style=\"text-align: right;\">\n",
       "      <th></th>\n",
       "      <th>Patient ID</th>\n",
       "      <th>Age</th>\n",
       "      <th>Medicine Overdose.1</th>\n",
       "      <th>Type</th>\n",
       "      <th>Temperature</th>\n",
       "      <th>Heart Rate</th>\n",
       "      <th>Pulse</th>\n",
       "      <th>BPSYSTOLIC</th>\n",
       "      <th>BPDIA</th>\n",
       "      <th>Respiratory Rate</th>\n",
       "    </tr>\n",
       "  </thead>\n",
       "  <tbody>\n",
       "    <tr>\n",
       "      <th>count</th>\n",
       "      <td>2000.000000</td>\n",
       "      <td>2000.000000</td>\n",
       "      <td>2000.000000</td>\n",
       "      <td>2000.000000</td>\n",
       "      <td>2000.000000</td>\n",
       "      <td>2000.000000</td>\n",
       "      <td>2000.00000</td>\n",
       "      <td>2000.000000</td>\n",
       "      <td>2000.000000</td>\n",
       "      <td>2000.000000</td>\n",
       "    </tr>\n",
       "    <tr>\n",
       "      <th>mean</th>\n",
       "      <td>1399.500000</td>\n",
       "      <td>42.488000</td>\n",
       "      <td>0.500500</td>\n",
       "      <td>0.500500</td>\n",
       "      <td>98.510500</td>\n",
       "      <td>78.986500</td>\n",
       "      <td>64.47500</td>\n",
       "      <td>105.216000</td>\n",
       "      <td>70.142500</td>\n",
       "      <td>14.024000</td>\n",
       "    </tr>\n",
       "    <tr>\n",
       "      <th>std</th>\n",
       "      <td>577.494589</td>\n",
       "      <td>4.635796</td>\n",
       "      <td>0.500125</td>\n",
       "      <td>0.500125</td>\n",
       "      <td>0.500015</td>\n",
       "      <td>11.616402</td>\n",
       "      <td>2.84876</td>\n",
       "      <td>9.005992</td>\n",
       "      <td>6.080023</td>\n",
       "      <td>1.425637</td>\n",
       "    </tr>\n",
       "    <tr>\n",
       "      <th>min</th>\n",
       "      <td>400.000000</td>\n",
       "      <td>35.000000</td>\n",
       "      <td>0.000000</td>\n",
       "      <td>0.000000</td>\n",
       "      <td>98.000000</td>\n",
       "      <td>60.000000</td>\n",
       "      <td>60.00000</td>\n",
       "      <td>90.000000</td>\n",
       "      <td>60.000000</td>\n",
       "      <td>12.000000</td>\n",
       "    </tr>\n",
       "    <tr>\n",
       "      <th>25%</th>\n",
       "      <td>899.750000</td>\n",
       "      <td>38.000000</td>\n",
       "      <td>0.000000</td>\n",
       "      <td>0.000000</td>\n",
       "      <td>98.000000</td>\n",
       "      <td>69.000000</td>\n",
       "      <td>62.00000</td>\n",
       "      <td>97.000000</td>\n",
       "      <td>65.000000</td>\n",
       "      <td>13.000000</td>\n",
       "    </tr>\n",
       "    <tr>\n",
       "      <th>50%</th>\n",
       "      <td>1399.500000</td>\n",
       "      <td>42.000000</td>\n",
       "      <td>1.000000</td>\n",
       "      <td>1.000000</td>\n",
       "      <td>99.000000</td>\n",
       "      <td>79.000000</td>\n",
       "      <td>65.00000</td>\n",
       "      <td>105.000000</td>\n",
       "      <td>70.000000</td>\n",
       "      <td>14.000000</td>\n",
       "    </tr>\n",
       "    <tr>\n",
       "      <th>75%</th>\n",
       "      <td>1899.250000</td>\n",
       "      <td>47.000000</td>\n",
       "      <td>1.000000</td>\n",
       "      <td>1.000000</td>\n",
       "      <td>99.000000</td>\n",
       "      <td>89.000000</td>\n",
       "      <td>67.00000</td>\n",
       "      <td>113.000000</td>\n",
       "      <td>75.000000</td>\n",
       "      <td>15.000000</td>\n",
       "    </tr>\n",
       "    <tr>\n",
       "      <th>max</th>\n",
       "      <td>2399.000000</td>\n",
       "      <td>50.000000</td>\n",
       "      <td>1.000000</td>\n",
       "      <td>1.000000</td>\n",
       "      <td>99.000000</td>\n",
       "      <td>99.000000</td>\n",
       "      <td>69.00000</td>\n",
       "      <td>120.000000</td>\n",
       "      <td>80.000000</td>\n",
       "      <td>16.000000</td>\n",
       "    </tr>\n",
       "  </tbody>\n",
       "</table>\n",
       "</div>"
      ],
      "text/plain": [
       "        Patient ID          Age  Medicine Overdose.1         Type  \\\n",
       "count  2000.000000  2000.000000          2000.000000  2000.000000   \n",
       "mean   1399.500000    42.488000             0.500500     0.500500   \n",
       "std     577.494589     4.635796             0.500125     0.500125   \n",
       "min     400.000000    35.000000             0.000000     0.000000   \n",
       "25%     899.750000    38.000000             0.000000     0.000000   \n",
       "50%    1399.500000    42.000000             1.000000     1.000000   \n",
       "75%    1899.250000    47.000000             1.000000     1.000000   \n",
       "max    2399.000000    50.000000             1.000000     1.000000   \n",
       "\n",
       "       Temperature   Heart Rate       Pulse   BPSYSTOLIC        BPDIA  \\\n",
       "count  2000.000000  2000.000000  2000.00000  2000.000000  2000.000000   \n",
       "mean     98.510500    78.986500    64.47500   105.216000    70.142500   \n",
       "std       0.500015    11.616402     2.84876     9.005992     6.080023   \n",
       "min      98.000000    60.000000    60.00000    90.000000    60.000000   \n",
       "25%      98.000000    69.000000    62.00000    97.000000    65.000000   \n",
       "50%      99.000000    79.000000    65.00000   105.000000    70.000000   \n",
       "75%      99.000000    89.000000    67.00000   113.000000    75.000000   \n",
       "max      99.000000    99.000000    69.00000   120.000000    80.000000   \n",
       "\n",
       "       Respiratory Rate  \n",
       "count       2000.000000  \n",
       "mean          14.024000  \n",
       "std            1.425637  \n",
       "min           12.000000  \n",
       "25%           13.000000  \n",
       "50%           14.000000  \n",
       "75%           15.000000  \n",
       "max           16.000000  "
      ]
     },
     "execution_count": 32,
     "metadata": {},
     "output_type": "execute_result"
    }
   ],
   "source": [
    "sh1_df.describe()"
   ]
  },
  {
   "cell_type": "markdown",
   "id": "ecd2fd15",
   "metadata": {},
   "source": [
    "### Checking Similar Columns"
   ]
  },
  {
   "cell_type": "code",
   "execution_count": 33,
   "id": "8a9b7b2b",
   "metadata": {},
   "outputs": [
    {
     "data": {
      "text/html": [
       "<div>\n",
       "<style scoped>\n",
       "    .dataframe tbody tr th:only-of-type {\n",
       "        vertical-align: middle;\n",
       "    }\n",
       "\n",
       "    .dataframe tbody tr th {\n",
       "        vertical-align: top;\n",
       "    }\n",
       "\n",
       "    .dataframe thead th {\n",
       "        text-align: right;\n",
       "    }\n",
       "</style>\n",
       "<table border=\"1\" class=\"dataframe\">\n",
       "  <thead>\n",
       "    <tr style=\"text-align: right;\">\n",
       "      <th></th>\n",
       "      <th>Patient Name</th>\n",
       "      <th>Gender</th>\n",
       "      <th>Patient ID</th>\n",
       "      <th>Date</th>\n",
       "      <th>Age</th>\n",
       "      <th>Medicine Overdose</th>\n",
       "      <th>Medicine Overdose.1</th>\n",
       "      <th>Type</th>\n",
       "      <th>Temperature</th>\n",
       "      <th>Heart Rate</th>\n",
       "      <th>Pulse</th>\n",
       "      <th>BPSYSTOLIC</th>\n",
       "      <th>BPDIA</th>\n",
       "      <th>Respiratory Rate</th>\n",
       "      <th>Causes Respiratory Imbalance</th>\n",
       "    </tr>\n",
       "  </thead>\n",
       "  <tbody>\n",
       "    <tr>\n",
       "      <th>0</th>\n",
       "      <td>Amelia Nixon</td>\n",
       "      <td>female</td>\n",
       "      <td>400</td>\n",
       "      <td>2019-07-15</td>\n",
       "      <td>40</td>\n",
       "      <td>False</td>\n",
       "      <td>0</td>\n",
       "      <td>0</td>\n",
       "      <td>98</td>\n",
       "      <td>69</td>\n",
       "      <td>66</td>\n",
       "      <td>92</td>\n",
       "      <td>60</td>\n",
       "      <td>15</td>\n",
       "      <td>Normal</td>\n",
       "    </tr>\n",
       "    <tr>\n",
       "      <th>1</th>\n",
       "      <td>Clara Hicks</td>\n",
       "      <td>female</td>\n",
       "      <td>401</td>\n",
       "      <td>2019-12-22</td>\n",
       "      <td>38</td>\n",
       "      <td>True</td>\n",
       "      <td>1</td>\n",
       "      <td>1</td>\n",
       "      <td>98</td>\n",
       "      <td>63</td>\n",
       "      <td>66</td>\n",
       "      <td>94</td>\n",
       "      <td>75</td>\n",
       "      <td>16</td>\n",
       "      <td>Mild</td>\n",
       "    </tr>\n",
       "    <tr>\n",
       "      <th>2</th>\n",
       "      <td>Mason Brown</td>\n",
       "      <td>male</td>\n",
       "      <td>402</td>\n",
       "      <td>2019-06-02</td>\n",
       "      <td>37</td>\n",
       "      <td>False</td>\n",
       "      <td>0</td>\n",
       "      <td>0</td>\n",
       "      <td>98</td>\n",
       "      <td>60</td>\n",
       "      <td>60</td>\n",
       "      <td>92</td>\n",
       "      <td>73</td>\n",
       "      <td>15</td>\n",
       "      <td>Normal</td>\n",
       "    </tr>\n",
       "    <tr>\n",
       "      <th>3</th>\n",
       "      <td>Michael Rice</td>\n",
       "      <td>male</td>\n",
       "      <td>403</td>\n",
       "      <td>2019-01-26</td>\n",
       "      <td>44</td>\n",
       "      <td>True</td>\n",
       "      <td>1</td>\n",
       "      <td>1</td>\n",
       "      <td>99</td>\n",
       "      <td>76</td>\n",
       "      <td>61</td>\n",
       "      <td>111</td>\n",
       "      <td>60</td>\n",
       "      <td>16</td>\n",
       "      <td>Mild</td>\n",
       "    </tr>\n",
       "    <tr>\n",
       "      <th>4</th>\n",
       "      <td>Eleanor Ritter</td>\n",
       "      <td>female</td>\n",
       "      <td>404</td>\n",
       "      <td>2019-01-24</td>\n",
       "      <td>39</td>\n",
       "      <td>True</td>\n",
       "      <td>1</td>\n",
       "      <td>1</td>\n",
       "      <td>99</td>\n",
       "      <td>86</td>\n",
       "      <td>62</td>\n",
       "      <td>104</td>\n",
       "      <td>69</td>\n",
       "      <td>13</td>\n",
       "      <td>Mild</td>\n",
       "    </tr>\n",
       "  </tbody>\n",
       "</table>\n",
       "</div>"
      ],
      "text/plain": [
       "     Patient Name  Gender  Patient ID       Date  Age  Medicine Overdose  \\\n",
       "0    Amelia Nixon  female         400 2019-07-15   40              False   \n",
       "1     Clara Hicks  female         401 2019-12-22   38               True   \n",
       "2     Mason Brown    male         402 2019-06-02   37              False   \n",
       "3    Michael Rice    male         403 2019-01-26   44               True   \n",
       "4  Eleanor Ritter  female         404 2019-01-24   39               True   \n",
       "\n",
       "   Medicine Overdose.1  Type  Temperature  Heart Rate  Pulse  BPSYSTOLIC  \\\n",
       "0                    0     0           98          69     66          92   \n",
       "1                    1     1           98          63     66          94   \n",
       "2                    0     0           98          60     60          92   \n",
       "3                    1     1           99          76     61         111   \n",
       "4                    1     1           99          86     62         104   \n",
       "\n",
       "   BPDIA  Respiratory Rate Causes Respiratory Imbalance  \n",
       "0     60                15                       Normal  \n",
       "1     75                16                         Mild  \n",
       "2     73                15                       Normal  \n",
       "3     60                16                         Mild  \n",
       "4     69                13                         Mild  "
      ]
     },
     "execution_count": 33,
     "metadata": {},
     "output_type": "execute_result"
    }
   ],
   "source": [
    "sh1_df.head()"
   ]
  },
  {
   "cell_type": "code",
   "execution_count": 34,
   "id": "b742b869",
   "metadata": {},
   "outputs": [
    {
     "data": {
      "text/plain": [
       "True"
      ]
     },
     "execution_count": 34,
     "metadata": {},
     "output_type": "execute_result"
    }
   ],
   "source": [
    "sh1_df['Medicine Overdose.1'].equals(sh1_df['Type'])"
   ]
  },
  {
   "cell_type": "code",
   "execution_count": 35,
   "id": "cbbca995",
   "metadata": {},
   "outputs": [],
   "source": [
    "sh1_df['Medicine Overdose'].replace({False:0,True:1},inplace=True)"
   ]
  },
  {
   "cell_type": "code",
   "execution_count": 38,
   "id": "c9325cdf",
   "metadata": {},
   "outputs": [
    {
     "data": {
      "text/plain": [
       "True"
      ]
     },
     "execution_count": 38,
     "metadata": {},
     "output_type": "execute_result"
    }
   ],
   "source": [
    "sh1_df['Medicine Overdose.1'].equals(sh1_df['Medicine Overdose'])"
   ]
  },
  {
   "cell_type": "code",
   "execution_count": 11,
   "id": "e163ffbd",
   "metadata": {},
   "outputs": [],
   "source": [
    "## Medical Overdose, Type and Medical Overdose.1 are same"
   ]
  },
  {
   "cell_type": "code",
   "execution_count": 39,
   "id": "d2518f54",
   "metadata": {},
   "outputs": [],
   "source": [
    "sh1_df.drop(columns=['Patient ID','Medicine Overdose.1','Type'],inplace=True)"
   ]
  },
  {
   "cell_type": "code",
   "execution_count": 40,
   "id": "f88d4ff3",
   "metadata": {},
   "outputs": [
    {
     "data": {
      "text/html": [
       "<div>\n",
       "<style scoped>\n",
       "    .dataframe tbody tr th:only-of-type {\n",
       "        vertical-align: middle;\n",
       "    }\n",
       "\n",
       "    .dataframe tbody tr th {\n",
       "        vertical-align: top;\n",
       "    }\n",
       "\n",
       "    .dataframe thead th {\n",
       "        text-align: right;\n",
       "    }\n",
       "</style>\n",
       "<table border=\"1\" class=\"dataframe\">\n",
       "  <thead>\n",
       "    <tr style=\"text-align: right;\">\n",
       "      <th></th>\n",
       "      <th>Patient Name</th>\n",
       "      <th>Gender</th>\n",
       "      <th>Date</th>\n",
       "      <th>Age</th>\n",
       "      <th>Medicine Overdose</th>\n",
       "      <th>Temperature</th>\n",
       "      <th>Heart Rate</th>\n",
       "      <th>Pulse</th>\n",
       "      <th>BPSYSTOLIC</th>\n",
       "      <th>BPDIA</th>\n",
       "      <th>Respiratory Rate</th>\n",
       "      <th>Causes Respiratory Imbalance</th>\n",
       "    </tr>\n",
       "  </thead>\n",
       "  <tbody>\n",
       "    <tr>\n",
       "      <th>0</th>\n",
       "      <td>Amelia Nixon</td>\n",
       "      <td>female</td>\n",
       "      <td>2019-07-15</td>\n",
       "      <td>40</td>\n",
       "      <td>0</td>\n",
       "      <td>98</td>\n",
       "      <td>69</td>\n",
       "      <td>66</td>\n",
       "      <td>92</td>\n",
       "      <td>60</td>\n",
       "      <td>15</td>\n",
       "      <td>Normal</td>\n",
       "    </tr>\n",
       "    <tr>\n",
       "      <th>1</th>\n",
       "      <td>Clara Hicks</td>\n",
       "      <td>female</td>\n",
       "      <td>2019-12-22</td>\n",
       "      <td>38</td>\n",
       "      <td>1</td>\n",
       "      <td>98</td>\n",
       "      <td>63</td>\n",
       "      <td>66</td>\n",
       "      <td>94</td>\n",
       "      <td>75</td>\n",
       "      <td>16</td>\n",
       "      <td>Mild</td>\n",
       "    </tr>\n",
       "    <tr>\n",
       "      <th>2</th>\n",
       "      <td>Mason Brown</td>\n",
       "      <td>male</td>\n",
       "      <td>2019-06-02</td>\n",
       "      <td>37</td>\n",
       "      <td>0</td>\n",
       "      <td>98</td>\n",
       "      <td>60</td>\n",
       "      <td>60</td>\n",
       "      <td>92</td>\n",
       "      <td>73</td>\n",
       "      <td>15</td>\n",
       "      <td>Normal</td>\n",
       "    </tr>\n",
       "    <tr>\n",
       "      <th>3</th>\n",
       "      <td>Michael Rice</td>\n",
       "      <td>male</td>\n",
       "      <td>2019-01-26</td>\n",
       "      <td>44</td>\n",
       "      <td>1</td>\n",
       "      <td>99</td>\n",
       "      <td>76</td>\n",
       "      <td>61</td>\n",
       "      <td>111</td>\n",
       "      <td>60</td>\n",
       "      <td>16</td>\n",
       "      <td>Mild</td>\n",
       "    </tr>\n",
       "    <tr>\n",
       "      <th>4</th>\n",
       "      <td>Eleanor Ritter</td>\n",
       "      <td>female</td>\n",
       "      <td>2019-01-24</td>\n",
       "      <td>39</td>\n",
       "      <td>1</td>\n",
       "      <td>99</td>\n",
       "      <td>86</td>\n",
       "      <td>62</td>\n",
       "      <td>104</td>\n",
       "      <td>69</td>\n",
       "      <td>13</td>\n",
       "      <td>Mild</td>\n",
       "    </tr>\n",
       "  </tbody>\n",
       "</table>\n",
       "</div>"
      ],
      "text/plain": [
       "     Patient Name  Gender       Date  Age  Medicine Overdose  Temperature  \\\n",
       "0    Amelia Nixon  female 2019-07-15   40                  0           98   \n",
       "1     Clara Hicks  female 2019-12-22   38                  1           98   \n",
       "2     Mason Brown    male 2019-06-02   37                  0           98   \n",
       "3    Michael Rice    male 2019-01-26   44                  1           99   \n",
       "4  Eleanor Ritter  female 2019-01-24   39                  1           99   \n",
       "\n",
       "   Heart Rate  Pulse  BPSYSTOLIC  BPDIA  Respiratory Rate  \\\n",
       "0          69     66          92     60                15   \n",
       "1          63     66          94     75                16   \n",
       "2          60     60          92     73                15   \n",
       "3          76     61         111     60                16   \n",
       "4          86     62         104     69                13   \n",
       "\n",
       "  Causes Respiratory Imbalance  \n",
       "0                       Normal  \n",
       "1                         Mild  \n",
       "2                       Normal  \n",
       "3                         Mild  \n",
       "4                         Mild  "
      ]
     },
     "execution_count": 40,
     "metadata": {},
     "output_type": "execute_result"
    }
   ],
   "source": [
    "sh1_df.head()"
   ]
  },
  {
   "cell_type": "markdown",
   "id": "bd679eac",
   "metadata": {},
   "source": [
    "### Checking Outliers"
   ]
  },
  {
   "cell_type": "code",
   "execution_count": 15,
   "id": "ce8853cb",
   "metadata": {},
   "outputs": [
    {
     "data": {
      "text/plain": [
       "<AxesSubplot:xlabel='Age'>"
      ]
     },
     "execution_count": 15,
     "metadata": {},
     "output_type": "execute_result"
    },
    {
     "data": {
      "image/png": "[encoded data removed]",
      "text/plain": [
       "<Figure size 1296x720 with 6 Axes>"
      ]
     },
     "metadata": {
      "needs_background": "light"
     },
     "output_type": "display_data"
    }
   ],
   "source": [
    "fig, axes = plt.subplots(2, 3, figsize=(18, 10))\n",
    "\n",
    "fig.suptitle('Detecting Outliers')\n",
    "\n",
    "sns.boxplot(ax=axes[0, 0],x=sh1_df['Pulse'])\n",
    "sns.boxplot(ax=axes[0, 1],x=sh1_df['BPDIA'])\n",
    "sns.boxplot(ax=axes[0, 2],x=sh1_df['BPSYSTOLIC'])\n",
    "sns.boxplot(ax=axes[1, 0],x=sh1_df['Heart Rate'])\n",
    "sns.boxplot(ax=axes[1, 1],x=sh1_df['Temperature'])\n",
    "sns.boxplot(ax=axes[1, 2],x=sh1_df['Age'])\n"
   ]
  },
  {
   "cell_type": "code",
   "execution_count": 17,
   "id": "ced5c459",
   "metadata": {},
   "outputs": [],
   "source": [
    "## Making label Binary"
   ]
  },
  {
   "cell_type": "code",
   "execution_count": 18,
   "id": "f73e4119",
   "metadata": {},
   "outputs": [],
   "source": [
    "sh1_df['Causes Respiratory Imbalance'].replace({'Mild':1,'Normal':0},inplace=True)"
   ]
  },
  {
   "cell_type": "code",
   "execution_count": 19,
   "id": "afb5edff",
   "metadata": {},
   "outputs": [
    {
     "data": {
      "image/png": "[encoded data removed]",
      "text/plain": [
       "<Figure size 432x288 with 1 Axes>"
      ]
     },
     "metadata": {
      "needs_background": "light"
     },
     "output_type": "display_data"
    }
   ],
   "source": [
    "ax= sns.barplot(x=\"Gender\", y=\"Causes Respiratory Imbalance\", data=sh1_df)"
   ]
  },
  {
   "cell_type": "code",
   "execution_count": 20,
   "id": "24edd12f",
   "metadata": {},
   "outputs": [],
   "source": [
    "## Balanced Gender"
   ]
  },
  {
   "cell_type": "code",
   "execution_count": 21,
   "id": "8cfb7d9e",
   "metadata": {},
   "outputs": [],
   "source": [
    "sh1_df['Gender'].replace({'female':0,'male':1},inplace=True)"
   ]
  },
  {
   "cell_type": "code",
   "execution_count": 22,
   "id": "8e6f3dde",
   "metadata": {},
   "outputs": [],
   "source": [
    "X=sh1_df.drop(columns=['Date','Patient Name','Causes Respiratory Imbalance'],axis=1)\n",
    "y=sh1_df['Causes Respiratory Imbalance']"
   ]
  },
  {
   "cell_type": "code",
   "execution_count": 23,
   "id": "7041c77a",
   "metadata": {},
   "outputs": [],
   "source": [
    "X_train, X_test, y_train, y_test=train_test_split(X,y,test_size=0.2,random_state=0)"
   ]
  },
  {
   "cell_type": "markdown",
   "id": "a9d10f66",
   "metadata": {},
   "source": [
    "### Function for transforming features"
   ]
  },
  {
   "cell_type": "code",
   "execution_count": 24,
   "id": "2d9efadb",
   "metadata": {},
   "outputs": [],
   "source": [
    "def transf_pipeline(train,test,norm_columns=[],cat_columns=[]):\n",
    "    one_hot_encoder=OneHotEncoder()\n",
    "    sc=StandardScaler()\n",
    "    transormer=ColumnTransformer([('one_hot',one_hot_encoder,cat_columns),('sc',sc,norm_columns)],remainder='passthrough')\n",
    "    X_train=transormer.fit_transform(train)\n",
    "    X_test=transormer.transform(test)\n",
    "    return X_train,X_test"
   ]
  },
  {
   "cell_type": "code",
   "execution_count": 25,
   "id": "9e85c353",
   "metadata": {},
   "outputs": [],
   "source": [
    "stand_col=['Temperature','Age','Pulse','Heart Rate','BPSYSTOLIC','BPDIA','Respiratory Rate']"
   ]
  },
  {
   "cell_type": "code",
   "execution_count": 26,
   "id": "c4cb04a1",
   "metadata": {},
   "outputs": [],
   "source": [
    "# cat_col=['Respiratory Rate']"
   ]
  },
  {
   "cell_type": "code",
   "execution_count": 27,
   "id": "5fd5c8e7",
   "metadata": {},
   "outputs": [],
   "source": [
    "X_train,X_test=transf_pipeline(X_train,X_test,stand_col)"
   ]
  },
  {
   "cell_type": "code",
   "execution_count": 28,
   "id": "4d621d0b",
   "metadata": {},
   "outputs": [
    {
     "data": {
      "text/html": [
       "<div>\n",
       "<style scoped>\n",
       "    .dataframe tbody tr th:only-of-type {\n",
       "        vertical-align: middle;\n",
       "    }\n",
       "\n",
       "    .dataframe tbody tr th {\n",
       "        vertical-align: top;\n",
       "    }\n",
       "\n",
       "    .dataframe thead th {\n",
       "        text-align: right;\n",
       "    }\n",
       "</style>\n",
       "<table border=\"1\" class=\"dataframe\">\n",
       "  <thead>\n",
       "    <tr style=\"text-align: right;\">\n",
       "      <th></th>\n",
       "      <th>0</th>\n",
       "      <th>1</th>\n",
       "      <th>2</th>\n",
       "      <th>3</th>\n",
       "      <th>4</th>\n",
       "      <th>5</th>\n",
       "      <th>6</th>\n",
       "      <th>7</th>\n",
       "      <th>8</th>\n",
       "    </tr>\n",
       "  </thead>\n",
       "  <tbody>\n",
       "    <tr>\n",
       "      <th>0</th>\n",
       "      <td>-1.006270</td>\n",
       "      <td>1.404330</td>\n",
       "      <td>-0.868627</td>\n",
       "      <td>0.259473</td>\n",
       "      <td>0.534844</td>\n",
       "      <td>1.619562</td>\n",
       "      <td>-1.422168</td>\n",
       "      <td>1.0</td>\n",
       "      <td>0.0</td>\n",
       "    </tr>\n",
       "    <tr>\n",
       "      <th>1</th>\n",
       "      <td>-1.006270</td>\n",
       "      <td>-0.316630</td>\n",
       "      <td>-0.160988</td>\n",
       "      <td>-1.452516</td>\n",
       "      <td>1.643328</td>\n",
       "      <td>-0.518609</td>\n",
       "      <td>0.667335</td>\n",
       "      <td>1.0</td>\n",
       "      <td>1.0</td>\n",
       "    </tr>\n",
       "    <tr>\n",
       "      <th>2</th>\n",
       "      <td>0.993769</td>\n",
       "      <td>1.404330</td>\n",
       "      <td>-0.160988</td>\n",
       "      <td>0.516272</td>\n",
       "      <td>1.643328</td>\n",
       "      <td>0.797188</td>\n",
       "      <td>0.667335</td>\n",
       "      <td>0.0</td>\n",
       "      <td>1.0</td>\n",
       "    </tr>\n",
       "    <tr>\n",
       "      <th>3</th>\n",
       "      <td>0.993769</td>\n",
       "      <td>-0.316630</td>\n",
       "      <td>0.192832</td>\n",
       "      <td>0.601871</td>\n",
       "      <td>-1.460428</td>\n",
       "      <td>-0.189660</td>\n",
       "      <td>-0.029166</td>\n",
       "      <td>0.0</td>\n",
       "      <td>1.0</td>\n",
       "    </tr>\n",
       "    <tr>\n",
       "      <th>4</th>\n",
       "      <td>0.993769</td>\n",
       "      <td>0.758970</td>\n",
       "      <td>1.254290</td>\n",
       "      <td>-0.853320</td>\n",
       "      <td>0.534844</td>\n",
       "      <td>0.303764</td>\n",
       "      <td>1.363836</td>\n",
       "      <td>1.0</td>\n",
       "      <td>1.0</td>\n",
       "    </tr>\n",
       "    <tr>\n",
       "      <th>...</th>\n",
       "      <td>...</td>\n",
       "      <td>...</td>\n",
       "      <td>...</td>\n",
       "      <td>...</td>\n",
       "      <td>...</td>\n",
       "      <td>...</td>\n",
       "      <td>...</td>\n",
       "      <td>...</td>\n",
       "      <td>...</td>\n",
       "    </tr>\n",
       "    <tr>\n",
       "      <th>1595</th>\n",
       "      <td>-1.006270</td>\n",
       "      <td>-1.177109</td>\n",
       "      <td>-0.160988</td>\n",
       "      <td>1.029869</td>\n",
       "      <td>-0.130247</td>\n",
       "      <td>0.961663</td>\n",
       "      <td>-0.725667</td>\n",
       "      <td>1.0</td>\n",
       "      <td>1.0</td>\n",
       "    </tr>\n",
       "    <tr>\n",
       "      <th>1596</th>\n",
       "      <td>-1.006270</td>\n",
       "      <td>1.619449</td>\n",
       "      <td>-1.576265</td>\n",
       "      <td>0.002675</td>\n",
       "      <td>1.643328</td>\n",
       "      <td>0.303764</td>\n",
       "      <td>0.667335</td>\n",
       "      <td>0.0</td>\n",
       "      <td>0.0</td>\n",
       "    </tr>\n",
       "    <tr>\n",
       "      <th>1597</th>\n",
       "      <td>-1.006270</td>\n",
       "      <td>0.113610</td>\n",
       "      <td>-0.868627</td>\n",
       "      <td>0.088274</td>\n",
       "      <td>0.202298</td>\n",
       "      <td>1.455087</td>\n",
       "      <td>-1.422168</td>\n",
       "      <td>0.0</td>\n",
       "      <td>1.0</td>\n",
       "    </tr>\n",
       "    <tr>\n",
       "      <th>1598</th>\n",
       "      <td>-1.006270</td>\n",
       "      <td>0.543850</td>\n",
       "      <td>0.192832</td>\n",
       "      <td>0.345073</td>\n",
       "      <td>-0.241095</td>\n",
       "      <td>1.619562</td>\n",
       "      <td>-0.725667</td>\n",
       "      <td>1.0</td>\n",
       "      <td>1.0</td>\n",
       "    </tr>\n",
       "    <tr>\n",
       "      <th>1599</th>\n",
       "      <td>-1.006270</td>\n",
       "      <td>0.113610</td>\n",
       "      <td>1.608109</td>\n",
       "      <td>-0.682121</td>\n",
       "      <td>-1.238731</td>\n",
       "      <td>0.632714</td>\n",
       "      <td>1.363836</td>\n",
       "      <td>1.0</td>\n",
       "      <td>1.0</td>\n",
       "    </tr>\n",
       "  </tbody>\n",
       "</table>\n",
       "<p>1600 rows × 9 columns</p>\n",
       "</div>"
      ],
      "text/plain": [
       "             0         1         2         3         4         5         6  \\\n",
       "0    -1.006270  1.404330 -0.868627  0.259473  0.534844  1.619562 -1.422168   \n",
       "1    -1.006270 -0.316630 -0.160988 -1.452516  1.643328 -0.518609  0.667335   \n",
       "2     0.993769  1.404330 -0.160988  0.516272  1.643328  0.797188  0.667335   \n",
       "3     0.993769 -0.316630  0.192832  0.601871 -1.460428 -0.189660 -0.029166   \n",
       "4     0.993769  0.758970  1.254290 -0.853320  0.534844  0.303764  1.363836   \n",
       "...        ...       ...       ...       ...       ...       ...       ...   \n",
       "1595 -1.006270 -1.177109 -0.160988  1.029869 -0.130247  0.961663 -0.725667   \n",
       "1596 -1.006270  1.619449 -1.576265  0.002675  1.643328  0.303764  0.667335   \n",
       "1597 -1.006270  0.113610 -0.868627  0.088274  0.202298  1.455087 -1.422168   \n",
       "1598 -1.006270  0.543850  0.192832  0.345073 -0.241095  1.619562 -0.725667   \n",
       "1599 -1.006270  0.113610  1.608109 -0.682121 -1.238731  0.632714  1.363836   \n",
       "\n",
       "        7    8  \n",
       "0     1.0  0.0  \n",
       "1     1.0  1.0  \n",
       "2     0.0  1.0  \n",
       "3     0.0  1.0  \n",
       "4     1.0  1.0  \n",
       "...   ...  ...  \n",
       "1595  1.0  1.0  \n",
       "1596  0.0  0.0  \n",
       "1597  0.0  1.0  \n",
       "1598  1.0  1.0  \n",
       "1599  1.0  1.0  \n",
       "\n",
       "[1600 rows x 9 columns]"
      ]
     },
     "execution_count": 28,
     "metadata": {},
     "output_type": "execute_result"
    }
   ],
   "source": [
    "pd.DataFrame(X_train)"
   ]
  },
  {
   "cell_type": "code",
   "execution_count": 29,
   "id": "cf3e6fac",
   "metadata": {},
   "outputs": [
    {
     "data": {
      "text/html": [
       "<div>\n",
       "<style scoped>\n",
       "    .dataframe tbody tr th:only-of-type {\n",
       "        vertical-align: middle;\n",
       "    }\n",
       "\n",
       "    .dataframe tbody tr th {\n",
       "        vertical-align: top;\n",
       "    }\n",
       "\n",
       "    .dataframe thead th {\n",
       "        text-align: right;\n",
       "    }\n",
       "</style>\n",
       "<table border=\"1\" class=\"dataframe\">\n",
       "  <thead>\n",
       "    <tr style=\"text-align: right;\">\n",
       "      <th></th>\n",
       "      <th>0</th>\n",
       "      <th>1</th>\n",
       "      <th>2</th>\n",
       "      <th>3</th>\n",
       "      <th>4</th>\n",
       "      <th>5</th>\n",
       "      <th>6</th>\n",
       "      <th>7</th>\n",
       "      <th>8</th>\n",
       "    </tr>\n",
       "  </thead>\n",
       "  <tbody>\n",
       "    <tr>\n",
       "      <th>0</th>\n",
       "      <td>-1.006270</td>\n",
       "      <td>-1.607349</td>\n",
       "      <td>0.192832</td>\n",
       "      <td>1.029869</td>\n",
       "      <td>1.089086</td>\n",
       "      <td>0.632714</td>\n",
       "      <td>-0.029166</td>\n",
       "      <td>0.0</td>\n",
       "      <td>1.0</td>\n",
       "    </tr>\n",
       "    <tr>\n",
       "      <th>1</th>\n",
       "      <td>-1.006270</td>\n",
       "      <td>-0.961989</td>\n",
       "      <td>-0.514807</td>\n",
       "      <td>-1.366916</td>\n",
       "      <td>1.310782</td>\n",
       "      <td>0.797188</td>\n",
       "      <td>-0.029166</td>\n",
       "      <td>1.0</td>\n",
       "      <td>0.0</td>\n",
       "    </tr>\n",
       "    <tr>\n",
       "      <th>2</th>\n",
       "      <td>0.993769</td>\n",
       "      <td>1.404330</td>\n",
       "      <td>-1.222446</td>\n",
       "      <td>1.372266</td>\n",
       "      <td>1.310782</td>\n",
       "      <td>-0.847559</td>\n",
       "      <td>-1.422168</td>\n",
       "      <td>0.0</td>\n",
       "      <td>1.0</td>\n",
       "    </tr>\n",
       "    <tr>\n",
       "      <th>3</th>\n",
       "      <td>0.993769</td>\n",
       "      <td>-1.392229</td>\n",
       "      <td>-0.868627</td>\n",
       "      <td>-1.538115</td>\n",
       "      <td>1.532479</td>\n",
       "      <td>-0.189660</td>\n",
       "      <td>-0.725667</td>\n",
       "      <td>1.0</td>\n",
       "      <td>0.0</td>\n",
       "    </tr>\n",
       "    <tr>\n",
       "      <th>4</th>\n",
       "      <td>0.993769</td>\n",
       "      <td>-0.101510</td>\n",
       "      <td>0.192832</td>\n",
       "      <td>-0.168524</td>\n",
       "      <td>-0.462792</td>\n",
       "      <td>0.797188</td>\n",
       "      <td>-0.725667</td>\n",
       "      <td>1.0</td>\n",
       "      <td>1.0</td>\n",
       "    </tr>\n",
       "    <tr>\n",
       "      <th>...</th>\n",
       "      <td>...</td>\n",
       "      <td>...</td>\n",
       "      <td>...</td>\n",
       "      <td>...</td>\n",
       "      <td>...</td>\n",
       "      <td>...</td>\n",
       "      <td>...</td>\n",
       "      <td>...</td>\n",
       "      <td>...</td>\n",
       "    </tr>\n",
       "    <tr>\n",
       "      <th>395</th>\n",
       "      <td>0.993769</td>\n",
       "      <td>-0.531749</td>\n",
       "      <td>0.192832</td>\n",
       "      <td>-0.682121</td>\n",
       "      <td>0.978237</td>\n",
       "      <td>1.619562</td>\n",
       "      <td>-0.029166</td>\n",
       "      <td>1.0</td>\n",
       "      <td>1.0</td>\n",
       "    </tr>\n",
       "    <tr>\n",
       "      <th>396</th>\n",
       "      <td>0.993769</td>\n",
       "      <td>1.189210</td>\n",
       "      <td>-1.576265</td>\n",
       "      <td>0.601871</td>\n",
       "      <td>0.978237</td>\n",
       "      <td>1.290613</td>\n",
       "      <td>-1.422168</td>\n",
       "      <td>0.0</td>\n",
       "      <td>0.0</td>\n",
       "    </tr>\n",
       "    <tr>\n",
       "      <th>397</th>\n",
       "      <td>-1.006270</td>\n",
       "      <td>-0.746869</td>\n",
       "      <td>0.900470</td>\n",
       "      <td>-0.767720</td>\n",
       "      <td>0.202298</td>\n",
       "      <td>-0.354135</td>\n",
       "      <td>-0.725667</td>\n",
       "      <td>1.0</td>\n",
       "      <td>0.0</td>\n",
       "    </tr>\n",
       "    <tr>\n",
       "      <th>398</th>\n",
       "      <td>-1.006270</td>\n",
       "      <td>-1.177109</td>\n",
       "      <td>0.900470</td>\n",
       "      <td>-0.596521</td>\n",
       "      <td>1.421631</td>\n",
       "      <td>1.619562</td>\n",
       "      <td>-1.422168</td>\n",
       "      <td>0.0</td>\n",
       "      <td>1.0</td>\n",
       "    </tr>\n",
       "    <tr>\n",
       "      <th>399</th>\n",
       "      <td>0.993769</td>\n",
       "      <td>-1.607349</td>\n",
       "      <td>-0.160988</td>\n",
       "      <td>-1.024519</td>\n",
       "      <td>0.756540</td>\n",
       "      <td>0.961663</td>\n",
       "      <td>-0.725667</td>\n",
       "      <td>0.0</td>\n",
       "      <td>0.0</td>\n",
       "    </tr>\n",
       "  </tbody>\n",
       "</table>\n",
       "<p>400 rows × 9 columns</p>\n",
       "</div>"
      ],
      "text/plain": [
       "            0         1         2         3         4         5         6  \\\n",
       "0   -1.006270 -1.607349  0.192832  1.029869  1.089086  0.632714 -0.029166   \n",
       "1   -1.006270 -0.961989 -0.514807 -1.366916  1.310782  0.797188 -0.029166   \n",
       "2    0.993769  1.404330 -1.222446  1.372266  1.310782 -0.847559 -1.422168   \n",
       "3    0.993769 -1.392229 -0.868627 -1.538115  1.532479 -0.189660 -0.725667   \n",
       "4    0.993769 -0.101510  0.192832 -0.168524 -0.462792  0.797188 -0.725667   \n",
       "..        ...       ...       ...       ...       ...       ...       ...   \n",
       "395  0.993769 -0.531749  0.192832 -0.682121  0.978237  1.619562 -0.029166   \n",
       "396  0.993769  1.189210 -1.576265  0.601871  0.978237  1.290613 -1.422168   \n",
       "397 -1.006270 -0.746869  0.900470 -0.767720  0.202298 -0.354135 -0.725667   \n",
       "398 -1.006270 -1.177109  0.900470 -0.596521  1.421631  1.619562 -1.422168   \n",
       "399  0.993769 -1.607349 -0.160988 -1.024519  0.756540  0.961663 -0.725667   \n",
       "\n",
       "       7    8  \n",
       "0    0.0  1.0  \n",
       "1    1.0  0.0  \n",
       "2    0.0  1.0  \n",
       "3    1.0  0.0  \n",
       "4    1.0  1.0  \n",
       "..   ...  ...  \n",
       "395  1.0  1.0  \n",
       "396  0.0  0.0  \n",
       "397  1.0  0.0  \n",
       "398  0.0  1.0  \n",
       "399  0.0  0.0  \n",
       "\n",
       "[400 rows x 9 columns]"
      ]
     },
     "execution_count": 29,
     "metadata": {},
     "output_type": "execute_result"
    }
   ],
   "source": [
    "pd.DataFrame(X_test)"
   ]
  },
  {
   "cell_type": "markdown",
   "id": "9065d0be",
   "metadata": {},
   "source": [
    "### Model Evaluation Function"
   ]
  },
  {
   "cell_type": "code",
   "execution_count": 30,
   "id": "95f30506",
   "metadata": {},
   "outputs": [],
   "source": [
    "def class_report(y_test,y_pred):\n",
    "    accuracy =accuracy_score(y_test,y_pred)\n",
    "    classification = classification_report(y_test,y_pred)\n",
    "    print()\n",
    "    print('============================== Model Evaluation ==============================')\n",
    "    print()\n",
    "    print(\"Classification report:\" \"\\n\", classification) \n",
    "    print()\n",
    "    return accuracy"
   ]
  },
  {
   "cell_type": "markdown",
   "id": "3d1854d8",
   "metadata": {},
   "source": [
    "### Confusion Matrix Function"
   ]
  },
  {
   "cell_type": "code",
   "execution_count": 31,
   "id": "0b2518d2",
   "metadata": {},
   "outputs": [],
   "source": [
    "def conf_matrix(y_test,y_pred,acc):\n",
    "    cm = confusion_matrix(y_test, y_pred)\n",
    "    plt.figure(figsize=(10,6))\n",
    "    sns.heatmap(data=cm,linewidths=.5, annot=True,square = True,  cmap = 'Blues', fmt=\"d\")\n",
    "    plt.ylabel('Actual label')\n",
    "    plt.xlabel('Predicted label')\n",
    "    all_sample_title = 'Accuracy Score: {0}'.format(acc)\n",
    "    plt.title(all_sample_title, size = 25)"
   ]
  },
  {
   "cell_type": "markdown",
   "id": "6fdc9865",
   "metadata": {},
   "source": [
    "## KNN\n"
   ]
  },
  {
   "cell_type": "code",
   "execution_count": 32,
   "id": "28b9a8c2",
   "metadata": {},
   "outputs": [
    {
     "data": {
      "text/plain": [
       "KNeighborsClassifier(n_neighbors=3)"
      ]
     },
     "execution_count": 32,
     "metadata": {},
     "output_type": "execute_result"
    }
   ],
   "source": [
    "from sklearn.neighbors import KNeighborsClassifier\n",
    "classifier_KNN = KNeighborsClassifier(n_neighbors = 3)\n",
    "classifier_KNN.fit(X_train, y_train)"
   ]
  },
  {
   "cell_type": "code",
   "execution_count": 33,
   "id": "ae5b9c1b",
   "metadata": {},
   "outputs": [],
   "source": [
    "y_pred = classifier_KNN.predict(X_test)"
   ]
  },
  {
   "cell_type": "code",
   "execution_count": 34,
   "id": "610eefd4",
   "metadata": {},
   "outputs": [
    {
     "name": "stdout",
     "output_type": "stream",
     "text": [
      "\n",
      "============================== Model Evaluation ==============================\n",
      "\n",
      "Classification report:\n",
      "               precision    recall  f1-score   support\n",
      "\n",
      "           0       0.94      0.95      0.95       200\n",
      "           1       0.95      0.94      0.94       200\n",
      "\n",
      "    accuracy                           0.94       400\n",
      "   macro avg       0.95      0.95      0.94       400\n",
      "weighted avg       0.95      0.94      0.94       400\n",
      "\n",
      "\n"
     ]
    }
   ],
   "source": [
    "accuracy=class_report(y_test,y_pred)"
   ]
  },
  {
   "cell_type": "code",
   "execution_count": 35,
   "id": "27894bdc",
   "metadata": {},
   "outputs": [
    {
     "data": {
      "image/png": "[encoded data removed]",
      "text/plain": [
       "<Figure size 720x432 with 2 Axes>"
      ]
     },
     "metadata": {
      "needs_background": "light"
     },
     "output_type": "display_data"
    }
   ],
   "source": [
    "conf_matrix(y_test,y_pred,accuracy)"
   ]
  },
  {
   "cell_type": "markdown",
   "id": "2603d0d4",
   "metadata": {},
   "source": [
    "## Naive Bayes"
   ]
  },
  {
   "cell_type": "code",
   "execution_count": 36,
   "id": "12f2a108",
   "metadata": {},
   "outputs": [],
   "source": [
    "from sklearn.naive_bayes import GaussianNB\n",
    "classifier_NB = GaussianNB()\n",
    "classifier_NB.fit(X_train, y_train)\n",
    "y_pred = classifier_NB.predict(X_test)"
   ]
  },
  {
   "cell_type": "code",
   "execution_count": 37,
   "id": "5a2e144c",
   "metadata": {},
   "outputs": [
    {
     "name": "stdout",
     "output_type": "stream",
     "text": [
      "\n",
      "============================== Model Evaluation ==============================\n",
      "\n",
      "Classification report:\n",
      "               precision    recall  f1-score   support\n",
      "\n",
      "           0       1.00      1.00      1.00       200\n",
      "           1       1.00      1.00      1.00       200\n",
      "\n",
      "    accuracy                           1.00       400\n",
      "   macro avg       1.00      1.00      1.00       400\n",
      "weighted avg       1.00      1.00      1.00       400\n",
      "\n",
      "\n"
     ]
    },
    {
     "data": {
      "image/png": "[encoded data removed]",
      "text/plain": [
       "<Figure size 720x432 with 2 Axes>"
      ]
     },
     "metadata": {
      "needs_background": "light"
     },
     "output_type": "display_data"
    }
   ],
   "source": [
    "accuracy=class_report(y_test,y_pred)\n",
    "conf_matrix(y_test,y_pred,accuracy)"
   ]
  },
  {
   "cell_type": "markdown",
   "id": "f8e3ead9",
   "metadata": {},
   "source": [
    "## SVM"
   ]
  },
  {
   "cell_type": "code",
   "execution_count": 38,
   "id": "e1ef9e08",
   "metadata": {},
   "outputs": [],
   "source": [
    "from sklearn.svm import SVC\n",
    "classifier_SVM = SVC(kernel = 'poly', random_state = 0)\n",
    "classifier_SVM.fit(X_train, y_train)\n",
    "y_pred = classifier_SVM.predict(X_test)"
   ]
  },
  {
   "cell_type": "code",
   "execution_count": 39,
   "id": "45c6d240",
   "metadata": {},
   "outputs": [
    {
     "name": "stdout",
     "output_type": "stream",
     "text": [
      "\n",
      "============================== Model Evaluation ==============================\n",
      "\n",
      "Classification report:\n",
      "               precision    recall  f1-score   support\n",
      "\n",
      "           0       1.00      1.00      1.00       200\n",
      "           1       1.00      0.99      1.00       200\n",
      "\n",
      "    accuracy                           1.00       400\n",
      "   macro avg       1.00      1.00      1.00       400\n",
      "weighted avg       1.00      1.00      1.00       400\n",
      "\n",
      "\n"
     ]
    },
    {
     "data": {
      "image/png": "[encoded data removed]",
      "text/plain": [
       "<Figure size 720x432 with 2 Axes>"
      ]
     },
     "metadata": {
      "needs_background": "light"
     },
     "output_type": "display_data"
    }
   ],
   "source": [
    "accuracy=class_report(y_test,y_pred)\n",
    "conf_matrix(y_test,y_pred,accuracy)"
   ]
  },
  {
   "cell_type": "markdown",
   "id": "9f879d6f",
   "metadata": {},
   "source": [
    "## Random Forest"
   ]
  },
  {
   "cell_type": "code",
   "execution_count": 40,
   "id": "a4c3d720",
   "metadata": {},
   "outputs": [],
   "source": [
    "from sklearn.ensemble import RandomForestClassifier\n",
    "classifier_RF = RandomForestClassifier(n_estimators = 10, criterion = 'entropy', random_state = 0)\n",
    "classifier_RF.fit(X_train, y_train)\n",
    "y_pred = classifier_RF.predict(X_test)"
   ]
  },
  {
   "cell_type": "code",
   "execution_count": 42,
   "id": "d96463cb",
   "metadata": {},
   "outputs": [
    {
     "name": "stdout",
     "output_type": "stream",
     "text": [
      "\n",
      "============================== Model Evaluation ==============================\n",
      "\n",
      "Classification report:\n",
      "               precision    recall  f1-score   support\n",
      "\n",
      "           0       1.00      1.00      1.00       200\n",
      "           1       1.00      1.00      1.00       200\n",
      "\n",
      "    accuracy                           1.00       400\n",
      "   macro avg       1.00      1.00      1.00       400\n",
      "weighted avg       1.00      1.00      1.00       400\n",
      "\n",
      "\n"
     ]
    },
    {
     "data": {
      "image/png": "[encoded data removed]",
      "text/plain": [
       "<Figure size 720x432 with 2 Axes>"
      ]
     },
     "metadata": {
      "needs_background": "light"
     },
     "output_type": "display_data"
    }
   ],
   "source": [
    "accuracy=class_report(y_test,y_pred)\n",
    "conf_matrix(y_test,y_pred,accuracy)"
   ]
  },
  {
   "cell_type": "code",
   "execution_count": 43,
   "id": "6e94abdc",
   "metadata": {},
   "outputs": [
    {
     "data": {
      "text/plain": [
       "1.0"
      ]
     },
     "execution_count": 43,
     "metadata": {},
     "output_type": "execute_result"
    }
   ],
   "source": [
    "accuracy"
   ]
  },
  {
   "cell_type": "markdown",
   "id": "9290bec3",
   "metadata": {},
   "source": [
    "## Per Hour Analysis"
   ]
  },
  {
   "cell_type": "code",
   "execution_count": 63,
   "id": "41458461",
   "metadata": {},
   "outputs": [],
   "source": [
    "sh2_df=pd.read_excel(\"DataSet_DS_ML.xlsx\", header=1,sheet_name=1)"
   ]
  },
  {
   "cell_type": "code",
   "execution_count": 64,
   "id": "6ce16827",
   "metadata": {},
   "outputs": [
    {
     "data": {
      "text/html": [
       "<div>\n",
       "<style scoped>\n",
       "    .dataframe tbody tr th:only-of-type {\n",
       "        vertical-align: middle;\n",
       "    }\n",
       "\n",
       "    .dataframe tbody tr th {\n",
       "        vertical-align: top;\n",
       "    }\n",
       "\n",
       "    .dataframe thead th {\n",
       "        text-align: right;\n",
       "    }\n",
       "</style>\n",
       "<table border=\"1\" class=\"dataframe\">\n",
       "  <thead>\n",
       "    <tr style=\"text-align: right;\">\n",
       "      <th></th>\n",
       "      <th>Patient Name</th>\n",
       "      <th>Patient ID</th>\n",
       "      <th>Time</th>\n",
       "      <th>Date</th>\n",
       "      <th>Age</th>\n",
       "      <th>Body Temperature</th>\n",
       "      <th>Heart Rate</th>\n",
       "      <th>Pulse</th>\n",
       "      <th>Blood Pressure</th>\n",
       "      <th>Sugar Catogery</th>\n",
       "      <th>Blood Sugar</th>\n",
       "    </tr>\n",
       "  </thead>\n",
       "  <tbody>\n",
       "    <tr>\n",
       "      <th>0</th>\n",
       "      <td>Amelia Nixon</td>\n",
       "      <td>57</td>\n",
       "      <td>00:00:00</td>\n",
       "      <td>2021-08-01</td>\n",
       "      <td>40</td>\n",
       "      <td>96</td>\n",
       "      <td>81</td>\n",
       "      <td>99</td>\n",
       "      <td>120</td>\n",
       "      <td>0</td>\n",
       "      <td>Low</td>\n",
       "    </tr>\n",
       "    <tr>\n",
       "      <th>1</th>\n",
       "      <td>Amelia Nixon</td>\n",
       "      <td>57</td>\n",
       "      <td>01:00:00</td>\n",
       "      <td>2021-08-01</td>\n",
       "      <td>40</td>\n",
       "      <td>96</td>\n",
       "      <td>110</td>\n",
       "      <td>102</td>\n",
       "      <td>86</td>\n",
       "      <td>1</td>\n",
       "      <td>Normal</td>\n",
       "    </tr>\n",
       "    <tr>\n",
       "      <th>2</th>\n",
       "      <td>Amelia Nixon</td>\n",
       "      <td>57</td>\n",
       "      <td>02:00:00</td>\n",
       "      <td>2021-08-01</td>\n",
       "      <td>40</td>\n",
       "      <td>98</td>\n",
       "      <td>116</td>\n",
       "      <td>116</td>\n",
       "      <td>90</td>\n",
       "      <td>1</td>\n",
       "      <td>Normal</td>\n",
       "    </tr>\n",
       "    <tr>\n",
       "      <th>3</th>\n",
       "      <td>Amelia Nixon</td>\n",
       "      <td>57</td>\n",
       "      <td>03:00:00</td>\n",
       "      <td>2021-08-01</td>\n",
       "      <td>40</td>\n",
       "      <td>97</td>\n",
       "      <td>119</td>\n",
       "      <td>108</td>\n",
       "      <td>99</td>\n",
       "      <td>1</td>\n",
       "      <td>Normal</td>\n",
       "    </tr>\n",
       "    <tr>\n",
       "      <th>4</th>\n",
       "      <td>Amelia Nixon</td>\n",
       "      <td>57</td>\n",
       "      <td>04:00:00</td>\n",
       "      <td>2021-08-01</td>\n",
       "      <td>40</td>\n",
       "      <td>98</td>\n",
       "      <td>89</td>\n",
       "      <td>73</td>\n",
       "      <td>88</td>\n",
       "      <td>0</td>\n",
       "      <td>Low</td>\n",
       "    </tr>\n",
       "  </tbody>\n",
       "</table>\n",
       "</div>"
      ],
      "text/plain": [
       "   Patient Name  Patient ID      Time       Date  Age  Body Temperature  \\\n",
       "0  Amelia Nixon          57  00:00:00 2021-08-01   40                96   \n",
       "1  Amelia Nixon          57  01:00:00 2021-08-01   40                96   \n",
       "2  Amelia Nixon          57  02:00:00 2021-08-01   40                98   \n",
       "3  Amelia Nixon          57  03:00:00 2021-08-01   40                97   \n",
       "4  Amelia Nixon          57  04:00:00 2021-08-01   40                98   \n",
       "\n",
       "   Heart Rate  Pulse  Blood Pressure  Sugar Catogery Blood Sugar  \n",
       "0          81     99             120               0         Low  \n",
       "1         110    102              86               1      Normal  \n",
       "2         116    116              90               1      Normal  \n",
       "3         119    108              99               1      Normal  \n",
       "4          89     73              88               0         Low  "
      ]
     },
     "execution_count": 64,
     "metadata": {},
     "output_type": "execute_result"
    }
   ],
   "source": [
    "sh2_df.head()"
   ]
  },
  {
   "cell_type": "code",
   "execution_count": 65,
   "id": "10a3023f",
   "metadata": {},
   "outputs": [
    {
     "data": {
      "text/plain": [
       "1"
      ]
     },
     "execution_count": 65,
     "metadata": {},
     "output_type": "execute_result"
    }
   ],
   "source": [
    "sh2_df['Patient Name'].nunique()"
   ]
  },
  {
   "cell_type": "code",
   "execution_count": 66,
   "id": "ea777e9d",
   "metadata": {},
   "outputs": [
    {
     "name": "stdout",
     "output_type": "stream",
     "text": [
      "<class 'pandas.core.frame.DataFrame'>\n",
      "RangeIndex: 744 entries, 0 to 743\n",
      "Data columns (total 11 columns):\n",
      " #   Column            Non-Null Count  Dtype         \n",
      "---  ------            --------------  -----         \n",
      " 0   Patient Name      744 non-null    object        \n",
      " 1   Patient ID        744 non-null    int64         \n",
      " 2   Time              744 non-null    object        \n",
      " 3   Date              744 non-null    datetime64[ns]\n",
      " 4   Age               744 non-null    int64         \n",
      " 5   Body Temperature  744 non-null    int64         \n",
      " 6   Heart Rate        744 non-null    int64         \n",
      " 7   Pulse             744 non-null    int64         \n",
      " 8   Blood Pressure    744 non-null    int64         \n",
      " 9   Sugar Catogery    744 non-null    int64         \n",
      " 10  Blood Sugar       744 non-null    object        \n",
      "dtypes: datetime64[ns](1), int64(7), object(3)\n",
      "memory usage: 64.1+ KB\n"
     ]
    }
   ],
   "source": [
    "sh2_df.info()"
   ]
  },
  {
   "cell_type": "code",
   "execution_count": 67,
   "id": "ff05851b",
   "metadata": {},
   "outputs": [
    {
     "data": {
      "text/plain": [
       "0                 00:00:00\n",
       "1                 01:00:00\n",
       "2                 02:00:00\n",
       "3                 03:00:00\n",
       "4                 04:00:00\n",
       "              ...         \n",
       "739    1900-01-15 19:00:00\n",
       "740    1900-01-15 20:00:00\n",
       "741    1900-01-15 21:00:00\n",
       "742    1900-01-15 22:00:00\n",
       "743    1900-01-15 23:00:00\n",
       "Name: Time, Length: 744, dtype: object"
      ]
     },
     "execution_count": 67,
     "metadata": {},
     "output_type": "execute_result"
    }
   ],
   "source": [
    "sh2_df['Time']"
   ]
  },
  {
   "cell_type": "code",
   "execution_count": 68,
   "id": "e004460b",
   "metadata": {},
   "outputs": [],
   "source": [
    "## Time feature should only have time "
   ]
  },
  {
   "cell_type": "code",
   "execution_count": 69,
   "id": "cb728044",
   "metadata": {},
   "outputs": [],
   "source": [
    "sh2_df['Time'] = pd.to_datetime(sh2_df['Time'].astype(str))\n",
    "sh2_df['Time'] = pd.to_datetime(sh2_df['Time']).dt.time"
   ]
  },
  {
   "cell_type": "code",
   "execution_count": 70,
   "id": "106577cf",
   "metadata": {},
   "outputs": [
    {
     "data": {
      "text/plain": [
       "0      00:00:00\n",
       "1      01:00:00\n",
       "2      02:00:00\n",
       "3      03:00:00\n",
       "4      04:00:00\n",
       "         ...   \n",
       "739    19:00:00\n",
       "740    20:00:00\n",
       "741    21:00:00\n",
       "742    22:00:00\n",
       "743    23:00:00\n",
       "Name: Time, Length: 744, dtype: object"
      ]
     },
     "execution_count": 70,
     "metadata": {},
     "output_type": "execute_result"
    }
   ],
   "source": [
    "sh2_df['Time'] "
   ]
  },
  {
   "cell_type": "code",
   "execution_count": 71,
   "id": "256bf3f1",
   "metadata": {},
   "outputs": [],
   "source": [
    "sh2_df['Time'] = [datetime.datetime.strptime(str(d) ,\"%H:%M:%S\") for d in sh2_df['Time']]"
   ]
  },
  {
   "cell_type": "code",
   "execution_count": 50,
   "id": "c7595606",
   "metadata": {},
   "outputs": [
    {
     "data": {
      "text/plain": [
       "0      00:00:00\n",
       "1      01:00:00\n",
       "2      02:00:00\n",
       "3      03:00:00\n",
       "4      04:00:00\n",
       "         ...   \n",
       "739    19:00:00\n",
       "740    20:00:00\n",
       "741    21:00:00\n",
       "742    22:00:00\n",
       "743    23:00:00\n",
       "Name: Time, Length: 744, dtype: object"
      ]
     },
     "execution_count": 50,
     "metadata": {},
     "output_type": "execute_result"
    }
   ],
   "source": [
    "sh2_df['Time']"
   ]
  },
  {
   "cell_type": "code",
   "execution_count": 51,
   "id": "dcf71d28",
   "metadata": {},
   "outputs": [],
   "source": [
    "## Adding hour as a feature"
   ]
  },
  {
   "cell_type": "code",
   "execution_count": 72,
   "id": "c5383caf",
   "metadata": {},
   "outputs": [],
   "source": [
    "sh2_df['Hour'] = sh2_df.Time.dt.hour"
   ]
  },
  {
   "cell_type": "code",
   "execution_count": 73,
   "id": "00c00b8a",
   "metadata": {},
   "outputs": [
    {
     "data": {
      "text/plain": [
       "0       0\n",
       "1       1\n",
       "2       2\n",
       "3       3\n",
       "4       4\n",
       "       ..\n",
       "739    19\n",
       "740    20\n",
       "741    21\n",
       "742    22\n",
       "743    23\n",
       "Name: Hour, Length: 744, dtype: int64"
      ]
     },
     "execution_count": 73,
     "metadata": {},
     "output_type": "execute_result"
    }
   ],
   "source": [
    "sh2_df['Hour']"
   ]
  },
  {
   "cell_type": "code",
   "execution_count": 74,
   "id": "1a1ba52c",
   "metadata": {},
   "outputs": [],
   "source": [
    "## Setting Date and Hour as index for better analysis"
   ]
  },
  {
   "cell_type": "code",
   "execution_count": 75,
   "id": "b7623b53",
   "metadata": {},
   "outputs": [],
   "source": [
    "sh2_df.set_index(['Date','Hour'], inplace=True)"
   ]
  },
  {
   "cell_type": "code",
   "execution_count": 76,
   "id": "a1505488",
   "metadata": {},
   "outputs": [
    {
     "data": {
      "text/html": [
       "<div>\n",
       "<style scoped>\n",
       "    .dataframe tbody tr th:only-of-type {\n",
       "        vertical-align: middle;\n",
       "    }\n",
       "\n",
       "    .dataframe tbody tr th {\n",
       "        vertical-align: top;\n",
       "    }\n",
       "\n",
       "    .dataframe thead th {\n",
       "        text-align: right;\n",
       "    }\n",
       "</style>\n",
       "<table border=\"1\" class=\"dataframe\">\n",
       "  <thead>\n",
       "    <tr style=\"text-align: right;\">\n",
       "      <th></th>\n",
       "      <th></th>\n",
       "      <th>Patient Name</th>\n",
       "      <th>Patient ID</th>\n",
       "      <th>Time</th>\n",
       "      <th>Age</th>\n",
       "      <th>Body Temperature</th>\n",
       "      <th>Heart Rate</th>\n",
       "      <th>Pulse</th>\n",
       "      <th>Blood Pressure</th>\n",
       "      <th>Sugar Catogery</th>\n",
       "      <th>Blood Sugar</th>\n",
       "    </tr>\n",
       "    <tr>\n",
       "      <th>Date</th>\n",
       "      <th>Hour</th>\n",
       "      <th></th>\n",
       "      <th></th>\n",
       "      <th></th>\n",
       "      <th></th>\n",
       "      <th></th>\n",
       "      <th></th>\n",
       "      <th></th>\n",
       "      <th></th>\n",
       "      <th></th>\n",
       "      <th></th>\n",
       "    </tr>\n",
       "  </thead>\n",
       "  <tbody>\n",
       "    <tr>\n",
       "      <th rowspan=\"5\" valign=\"top\">2021-08-01</th>\n",
       "      <th>0</th>\n",
       "      <td>Amelia Nixon</td>\n",
       "      <td>57</td>\n",
       "      <td>1900-01-01 00:00:00</td>\n",
       "      <td>40</td>\n",
       "      <td>96</td>\n",
       "      <td>81</td>\n",
       "      <td>99</td>\n",
       "      <td>120</td>\n",
       "      <td>0</td>\n",
       "      <td>Low</td>\n",
       "    </tr>\n",
       "    <tr>\n",
       "      <th>1</th>\n",
       "      <td>Amelia Nixon</td>\n",
       "      <td>57</td>\n",
       "      <td>1900-01-01 01:00:00</td>\n",
       "      <td>40</td>\n",
       "      <td>96</td>\n",
       "      <td>110</td>\n",
       "      <td>102</td>\n",
       "      <td>86</td>\n",
       "      <td>1</td>\n",
       "      <td>Normal</td>\n",
       "    </tr>\n",
       "    <tr>\n",
       "      <th>2</th>\n",
       "      <td>Amelia Nixon</td>\n",
       "      <td>57</td>\n",
       "      <td>1900-01-01 02:00:00</td>\n",
       "      <td>40</td>\n",
       "      <td>98</td>\n",
       "      <td>116</td>\n",
       "      <td>116</td>\n",
       "      <td>90</td>\n",
       "      <td>1</td>\n",
       "      <td>Normal</td>\n",
       "    </tr>\n",
       "    <tr>\n",
       "      <th>3</th>\n",
       "      <td>Amelia Nixon</td>\n",
       "      <td>57</td>\n",
       "      <td>1900-01-01 03:00:00</td>\n",
       "      <td>40</td>\n",
       "      <td>97</td>\n",
       "      <td>119</td>\n",
       "      <td>108</td>\n",
       "      <td>99</td>\n",
       "      <td>1</td>\n",
       "      <td>Normal</td>\n",
       "    </tr>\n",
       "    <tr>\n",
       "      <th>4</th>\n",
       "      <td>Amelia Nixon</td>\n",
       "      <td>57</td>\n",
       "      <td>1900-01-01 04:00:00</td>\n",
       "      <td>40</td>\n",
       "      <td>98</td>\n",
       "      <td>89</td>\n",
       "      <td>73</td>\n",
       "      <td>88</td>\n",
       "      <td>0</td>\n",
       "      <td>Low</td>\n",
       "    </tr>\n",
       "  </tbody>\n",
       "</table>\n",
       "</div>"
      ],
      "text/plain": [
       "                 Patient Name  Patient ID                Time  Age  \\\n",
       "Date       Hour                                                      \n",
       "2021-08-01 0     Amelia Nixon          57 1900-01-01 00:00:00   40   \n",
       "           1     Amelia Nixon          57 1900-01-01 01:00:00   40   \n",
       "           2     Amelia Nixon          57 1900-01-01 02:00:00   40   \n",
       "           3     Amelia Nixon          57 1900-01-01 03:00:00   40   \n",
       "           4     Amelia Nixon          57 1900-01-01 04:00:00   40   \n",
       "\n",
       "                 Body Temperature  Heart Rate  Pulse  Blood Pressure  \\\n",
       "Date       Hour                                                        \n",
       "2021-08-01 0                   96          81     99             120   \n",
       "           1                   96         110    102              86   \n",
       "           2                   98         116    116              90   \n",
       "           3                   97         119    108              99   \n",
       "           4                   98          89     73              88   \n",
       "\n",
       "                 Sugar Catogery Blood Sugar  \n",
       "Date       Hour                              \n",
       "2021-08-01 0                  0         Low  \n",
       "           1                  1      Normal  \n",
       "           2                  1      Normal  \n",
       "           3                  1      Normal  \n",
       "           4                  0         Low  "
      ]
     },
     "execution_count": 76,
     "metadata": {},
     "output_type": "execute_result"
    }
   ],
   "source": [
    "sh2_df.head()\n"
   ]
  },
  {
   "cell_type": "code",
   "execution_count": 77,
   "id": "f7e5cb33",
   "metadata": {},
   "outputs": [
    {
     "data": {
      "text/plain": [
       "<AxesSubplot:xlabel='Date,Hour', ylabel='Sugar Category'>"
      ]
     },
     "execution_count": 77,
     "metadata": {},
     "output_type": "execute_result"
    },
    {
     "data": {
      "image/png": "[encoded data removed]",
      "text/plain": [
       "<Figure size 1152x360 with 1 Axes>"
      ]
     },
     "metadata": {
      "needs_background": "light"
     },
     "output_type": "display_data"
    }
   ],
   "source": [
    "sh2_df.loc['2021-08-01']['Sugar Catogery'].plot(figsize=(16,5),ylabel=\"Sugar Category\")"
   ]
  },
  {
   "cell_type": "code",
   "execution_count": 849,
   "id": "b1729a78",
   "metadata": {},
   "outputs": [],
   "source": [
    "### Adding day as a feature"
   ]
  },
  {
   "cell_type": "code",
   "execution_count": 78,
   "id": "1de37db3",
   "metadata": {},
   "outputs": [],
   "source": [
    "sh2_df['Day'] = sh2_df.index.get_level_values(0).day"
   ]
  },
  {
   "cell_type": "code",
   "execution_count": 79,
   "id": "9f57b1c2",
   "metadata": {},
   "outputs": [
    {
     "name": "stdout",
     "output_type": "stream",
     "text": [
      "<class 'pandas.core.frame.DataFrame'>\n",
      "MultiIndex: 744 entries, (Timestamp('2021-08-01 00:00:00'), 0) to (Timestamp('2021-08-30 00:00:00'), 23)\n",
      "Data columns (total 11 columns):\n",
      " #   Column            Non-Null Count  Dtype         \n",
      "---  ------            --------------  -----         \n",
      " 0   Patient Name      744 non-null    object        \n",
      " 1   Patient ID        744 non-null    int64         \n",
      " 2   Time              744 non-null    datetime64[ns]\n",
      " 3   Age               744 non-null    int64         \n",
      " 4   Body Temperature  744 non-null    int64         \n",
      " 5   Heart Rate        744 non-null    int64         \n",
      " 6   Pulse             744 non-null    int64         \n",
      " 7   Blood Pressure    744 non-null    int64         \n",
      " 8   Sugar Catogery    744 non-null    int64         \n",
      " 9   Blood Sugar       744 non-null    object        \n",
      " 10  Day               744 non-null    int64         \n",
      "dtypes: datetime64[ns](1), int64(8), object(2)\n",
      "memory usage: 67.5+ KB\n"
     ]
    }
   ],
   "source": [
    "sh2_df.info()"
   ]
  },
  {
   "cell_type": "code",
   "execution_count": 80,
   "id": "0a96ac53",
   "metadata": {},
   "outputs": [
    {
     "data": {
      "text/html": [
       "<div>\n",
       "<style scoped>\n",
       "    .dataframe tbody tr th:only-of-type {\n",
       "        vertical-align: middle;\n",
       "    }\n",
       "\n",
       "    .dataframe tbody tr th {\n",
       "        vertical-align: top;\n",
       "    }\n",
       "\n",
       "    .dataframe thead th {\n",
       "        text-align: right;\n",
       "    }\n",
       "</style>\n",
       "<table border=\"1\" class=\"dataframe\">\n",
       "  <thead>\n",
       "    <tr style=\"text-align: right;\">\n",
       "      <th></th>\n",
       "      <th></th>\n",
       "      <th>Patient Name</th>\n",
       "      <th>Patient ID</th>\n",
       "      <th>Time</th>\n",
       "      <th>Age</th>\n",
       "      <th>Body Temperature</th>\n",
       "      <th>Heart Rate</th>\n",
       "      <th>Pulse</th>\n",
       "      <th>Blood Pressure</th>\n",
       "      <th>Sugar Catogery</th>\n",
       "      <th>Blood Sugar</th>\n",
       "      <th>Day</th>\n",
       "    </tr>\n",
       "    <tr>\n",
       "      <th>Date</th>\n",
       "      <th>Hour</th>\n",
       "      <th></th>\n",
       "      <th></th>\n",
       "      <th></th>\n",
       "      <th></th>\n",
       "      <th></th>\n",
       "      <th></th>\n",
       "      <th></th>\n",
       "      <th></th>\n",
       "      <th></th>\n",
       "      <th></th>\n",
       "      <th></th>\n",
       "    </tr>\n",
       "  </thead>\n",
       "  <tbody>\n",
       "    <tr>\n",
       "      <th rowspan=\"5\" valign=\"top\">2021-08-30</th>\n",
       "      <th>19</th>\n",
       "      <td>Amelia Nixon</td>\n",
       "      <td>57</td>\n",
       "      <td>1900-01-01 19:00:00</td>\n",
       "      <td>756</td>\n",
       "      <td>99</td>\n",
       "      <td>109</td>\n",
       "      <td>122</td>\n",
       "      <td>101</td>\n",
       "      <td>2</td>\n",
       "      <td>High</td>\n",
       "      <td>30</td>\n",
       "    </tr>\n",
       "    <tr>\n",
       "      <th>20</th>\n",
       "      <td>Amelia Nixon</td>\n",
       "      <td>57</td>\n",
       "      <td>1900-01-01 20:00:00</td>\n",
       "      <td>757</td>\n",
       "      <td>99</td>\n",
       "      <td>78</td>\n",
       "      <td>77</td>\n",
       "      <td>99</td>\n",
       "      <td>2</td>\n",
       "      <td>High</td>\n",
       "      <td>30</td>\n",
       "    </tr>\n",
       "    <tr>\n",
       "      <th>21</th>\n",
       "      <td>Amelia Nixon</td>\n",
       "      <td>57</td>\n",
       "      <td>1900-01-01 21:00:00</td>\n",
       "      <td>758</td>\n",
       "      <td>99</td>\n",
       "      <td>72</td>\n",
       "      <td>90</td>\n",
       "      <td>90</td>\n",
       "      <td>1</td>\n",
       "      <td>Normal</td>\n",
       "      <td>30</td>\n",
       "    </tr>\n",
       "    <tr>\n",
       "      <th>22</th>\n",
       "      <td>Amelia Nixon</td>\n",
       "      <td>57</td>\n",
       "      <td>1900-01-01 22:00:00</td>\n",
       "      <td>759</td>\n",
       "      <td>99</td>\n",
       "      <td>115</td>\n",
       "      <td>107</td>\n",
       "      <td>98</td>\n",
       "      <td>2</td>\n",
       "      <td>High</td>\n",
       "      <td>30</td>\n",
       "    </tr>\n",
       "    <tr>\n",
       "      <th>23</th>\n",
       "      <td>Amelia Nixon</td>\n",
       "      <td>57</td>\n",
       "      <td>1900-01-01 23:00:00</td>\n",
       "      <td>760</td>\n",
       "      <td>99</td>\n",
       "      <td>113</td>\n",
       "      <td>107</td>\n",
       "      <td>99</td>\n",
       "      <td>1</td>\n",
       "      <td>Normal</td>\n",
       "      <td>30</td>\n",
       "    </tr>\n",
       "  </tbody>\n",
       "</table>\n",
       "</div>"
      ],
      "text/plain": [
       "                 Patient Name  Patient ID                Time  Age  \\\n",
       "Date       Hour                                                      \n",
       "2021-08-30 19    Amelia Nixon          57 1900-01-01 19:00:00  756   \n",
       "           20    Amelia Nixon          57 1900-01-01 20:00:00  757   \n",
       "           21    Amelia Nixon          57 1900-01-01 21:00:00  758   \n",
       "           22    Amelia Nixon          57 1900-01-01 22:00:00  759   \n",
       "           23    Amelia Nixon          57 1900-01-01 23:00:00  760   \n",
       "\n",
       "                 Body Temperature  Heart Rate  Pulse  Blood Pressure  \\\n",
       "Date       Hour                                                        \n",
       "2021-08-30 19                  99         109    122             101   \n",
       "           20                  99          78     77              99   \n",
       "           21                  99          72     90              90   \n",
       "           22                  99         115    107              98   \n",
       "           23                  99         113    107              99   \n",
       "\n",
       "                 Sugar Catogery Blood Sugar  Day  \n",
       "Date       Hour                                   \n",
       "2021-08-30 19                 2        High   30  \n",
       "           20                 2        High   30  \n",
       "           21                 1      Normal   30  \n",
       "           22                 2        High   30  \n",
       "           23                 1      Normal   30  "
      ]
     },
     "execution_count": 80,
     "metadata": {},
     "output_type": "execute_result"
    }
   ],
   "source": [
    "sh2_df.tail()"
   ]
  },
  {
   "cell_type": "code",
   "execution_count": 81,
   "id": "7b59aa0a",
   "metadata": {},
   "outputs": [
    {
     "data": {
      "text/plain": [
       "1    274\n",
       "2    236\n",
       "0    234\n",
       "Name: Sugar Catogery, dtype: int64"
      ]
     },
     "execution_count": 81,
     "metadata": {},
     "output_type": "execute_result"
    }
   ],
   "source": [
    "sh2_df['Sugar Catogery'].value_counts()"
   ]
  },
  {
   "cell_type": "code",
   "execution_count": 82,
   "id": "73db751c",
   "metadata": {},
   "outputs": [
    {
     "data": {
      "text/plain": [
       "40     24\n",
       "514     1\n",
       "516     1\n",
       "517     1\n",
       "518     1\n",
       "       ..\n",
       "282     1\n",
       "283     1\n",
       "284     1\n",
       "285     1\n",
       "760     1\n",
       "Name: Age, Length: 721, dtype: int64"
      ]
     },
     "execution_count": 82,
     "metadata": {},
     "output_type": "execute_result"
    }
   ],
   "source": [
    "sh2_df['Age'].value_counts()"
   ]
  },
  {
   "cell_type": "markdown",
   "id": "2230b009",
   "metadata": {},
   "source": [
    "### Checking and Removing Outliers"
   ]
  },
  {
   "cell_type": "code",
   "execution_count": 83,
   "id": "c8e5ac5d",
   "metadata": {},
   "outputs": [
    {
     "data": {
      "text/plain": [
       "<AxesSubplot:xlabel='Age'>"
      ]
     },
     "execution_count": 83,
     "metadata": {},
     "output_type": "execute_result"
    },
    {
     "data": {
      "image/png": "[encoded data removed]",
      "text/plain": [
       "<Figure size 1296x720 with 6 Axes>"
      ]
     },
     "metadata": {
      "needs_background": "light"
     },
     "output_type": "display_data"
    }
   ],
   "source": [
    "fig, axes = plt.subplots(2, 3, figsize=(18, 10))\n",
    "\n",
    "fig.suptitle('Detecting Outliers')\n",
    "\n",
    "sns.boxplot(ax=axes[0, 0],x=sh2_df['Pulse'])\n",
    "sns.boxplot(ax=axes[0, 1],x=sh2_df['Blood Pressure'])\n",
    "sns.boxplot(ax=axes[0, 2],x=sh2_df['Heart Rate'])\n",
    "sns.boxplot(ax=axes[1, 0],x=sh2_df['Body Temperature'])\n",
    "sns.boxplot(ax=axes[1, 1],x=sh2_df['Age'])"
   ]
  },
  {
   "cell_type": "markdown",
   "id": "03bb594e",
   "metadata": {},
   "source": [
    "### Remove outliers function"
   ]
  },
  {
   "cell_type": "code",
   "execution_count": 84,
   "id": "5f10058f",
   "metadata": {},
   "outputs": [],
   "source": [
    "def remove_outlier(df,col):\n",
    "    Q1=df[col].quantile(0.25)\n",
    "    Q3=df[col].quantile(0.75)\n",
    "    IQR=Q3-Q1\n",
    "    df[col]= np.where(df[col] <(Q1-1.5*IQR),Q1-1.5*IQR ,df[col])\n",
    "    df[col] = np.where(df[col]>(Q3+1.5*IQR),Q3+1.5*IQR ,df[col])"
   ]
  },
  {
   "cell_type": "code",
   "execution_count": 85,
   "id": "148c67f0",
   "metadata": {},
   "outputs": [],
   "source": [
    "remove_outlier(sh2_df,'Blood Pressure')"
   ]
  },
  {
   "cell_type": "code",
   "execution_count": 86,
   "id": "e6dd5b57",
   "metadata": {},
   "outputs": [
    {
     "data": {
      "text/plain": [
       "<AxesSubplot:xlabel='Blood Pressure'>"
      ]
     },
     "execution_count": 86,
     "metadata": {},
     "output_type": "execute_result"
    },
    {
     "data": {
      "image/png": "[encoded data removed]",
      "text/plain": [
       "<Figure size 432x288 with 1 Axes>"
      ]
     },
     "metadata": {
      "needs_background": "light"
     },
     "output_type": "display_data"
    }
   ],
   "source": [
    "sns.boxplot(x=sh2_df['Blood Pressure'])"
   ]
  },
  {
   "cell_type": "code",
   "execution_count": 87,
   "id": "69f1ec68",
   "metadata": {},
   "outputs": [
    {
     "data": {
      "text/plain": [
       "40     24\n",
       "514     1\n",
       "516     1\n",
       "517     1\n",
       "518     1\n",
       "       ..\n",
       "282     1\n",
       "283     1\n",
       "284     1\n",
       "285     1\n",
       "760     1\n",
       "Name: Age, Length: 721, dtype: int64"
      ]
     },
     "execution_count": 87,
     "metadata": {},
     "output_type": "execute_result"
    }
   ],
   "source": [
    "sh2_df['Age'].value_counts()"
   ]
  },
  {
   "cell_type": "code",
   "execution_count": 813,
   "id": "28d6884a",
   "metadata": {},
   "outputs": [],
   "source": [
    "sh2_df['Age']=40"
   ]
  },
  {
   "cell_type": "code",
   "execution_count": 814,
   "id": "8468b473",
   "metadata": {},
   "outputs": [
    {
     "data": {
      "text/html": [
       "<div>\n",
       "<style scoped>\n",
       "    .dataframe tbody tr th:only-of-type {\n",
       "        vertical-align: middle;\n",
       "    }\n",
       "\n",
       "    .dataframe tbody tr th {\n",
       "        vertical-align: top;\n",
       "    }\n",
       "\n",
       "    .dataframe thead th {\n",
       "        text-align: right;\n",
       "    }\n",
       "</style>\n",
       "<table border=\"1\" class=\"dataframe\">\n",
       "  <thead>\n",
       "    <tr style=\"text-align: right;\">\n",
       "      <th></th>\n",
       "      <th></th>\n",
       "      <th>Patient Name</th>\n",
       "      <th>Patient ID</th>\n",
       "      <th>Time</th>\n",
       "      <th>Age</th>\n",
       "      <th>Body Temperature</th>\n",
       "      <th>Heart Rate</th>\n",
       "      <th>Pulse</th>\n",
       "      <th>Blood Pressure</th>\n",
       "      <th>Sugar Catogery</th>\n",
       "      <th>Blood Sugar</th>\n",
       "      <th>Day</th>\n",
       "    </tr>\n",
       "    <tr>\n",
       "      <th>Date</th>\n",
       "      <th>Hour</th>\n",
       "      <th></th>\n",
       "      <th></th>\n",
       "      <th></th>\n",
       "      <th></th>\n",
       "      <th></th>\n",
       "      <th></th>\n",
       "      <th></th>\n",
       "      <th></th>\n",
       "      <th></th>\n",
       "      <th></th>\n",
       "      <th></th>\n",
       "    </tr>\n",
       "  </thead>\n",
       "  <tbody>\n",
       "    <tr>\n",
       "      <th rowspan=\"5\" valign=\"top\">2021-08-01</th>\n",
       "      <th>0</th>\n",
       "      <td>Amelia Nixon</td>\n",
       "      <td>57</td>\n",
       "      <td>1900-01-01 00:00:00</td>\n",
       "      <td>40</td>\n",
       "      <td>96</td>\n",
       "      <td>81</td>\n",
       "      <td>99</td>\n",
       "      <td>120.0</td>\n",
       "      <td>0</td>\n",
       "      <td>Low</td>\n",
       "      <td>1</td>\n",
       "    </tr>\n",
       "    <tr>\n",
       "      <th>1</th>\n",
       "      <td>Amelia Nixon</td>\n",
       "      <td>57</td>\n",
       "      <td>1900-01-01 01:00:00</td>\n",
       "      <td>40</td>\n",
       "      <td>96</td>\n",
       "      <td>110</td>\n",
       "      <td>102</td>\n",
       "      <td>86.0</td>\n",
       "      <td>1</td>\n",
       "      <td>Normal</td>\n",
       "      <td>1</td>\n",
       "    </tr>\n",
       "    <tr>\n",
       "      <th>2</th>\n",
       "      <td>Amelia Nixon</td>\n",
       "      <td>57</td>\n",
       "      <td>1900-01-01 02:00:00</td>\n",
       "      <td>40</td>\n",
       "      <td>98</td>\n",
       "      <td>116</td>\n",
       "      <td>116</td>\n",
       "      <td>90.0</td>\n",
       "      <td>1</td>\n",
       "      <td>Normal</td>\n",
       "      <td>1</td>\n",
       "    </tr>\n",
       "    <tr>\n",
       "      <th>3</th>\n",
       "      <td>Amelia Nixon</td>\n",
       "      <td>57</td>\n",
       "      <td>1900-01-01 03:00:00</td>\n",
       "      <td>40</td>\n",
       "      <td>97</td>\n",
       "      <td>119</td>\n",
       "      <td>108</td>\n",
       "      <td>99.0</td>\n",
       "      <td>1</td>\n",
       "      <td>Normal</td>\n",
       "      <td>1</td>\n",
       "    </tr>\n",
       "    <tr>\n",
       "      <th>4</th>\n",
       "      <td>Amelia Nixon</td>\n",
       "      <td>57</td>\n",
       "      <td>1900-01-01 04:00:00</td>\n",
       "      <td>40</td>\n",
       "      <td>98</td>\n",
       "      <td>89</td>\n",
       "      <td>73</td>\n",
       "      <td>88.0</td>\n",
       "      <td>0</td>\n",
       "      <td>Low</td>\n",
       "      <td>1</td>\n",
       "    </tr>\n",
       "  </tbody>\n",
       "</table>\n",
       "</div>"
      ],
      "text/plain": [
       "                 Patient Name  Patient ID                Time  Age  \\\n",
       "Date       Hour                                                      \n",
       "2021-08-01 0     Amelia Nixon          57 1900-01-01 00:00:00   40   \n",
       "           1     Amelia Nixon          57 1900-01-01 01:00:00   40   \n",
       "           2     Amelia Nixon          57 1900-01-01 02:00:00   40   \n",
       "           3     Amelia Nixon          57 1900-01-01 03:00:00   40   \n",
       "           4     Amelia Nixon          57 1900-01-01 04:00:00   40   \n",
       "\n",
       "                 Body Temperature  Heart Rate  Pulse  Blood Pressure  \\\n",
       "Date       Hour                                                        \n",
       "2021-08-01 0                   96          81     99           120.0   \n",
       "           1                   96         110    102            86.0   \n",
       "           2                   98         116    116            90.0   \n",
       "           3                   97         119    108            99.0   \n",
       "           4                   98          89     73            88.0   \n",
       "\n",
       "                 Sugar Catogery Blood Sugar  Day  \n",
       "Date       Hour                                   \n",
       "2021-08-01 0                  0         Low    1  \n",
       "           1                  1      Normal    1  \n",
       "           2                  1      Normal    1  \n",
       "           3                  1      Normal    1  \n",
       "           4                  0         Low    1  "
      ]
     },
     "execution_count": 814,
     "metadata": {},
     "output_type": "execute_result"
    }
   ],
   "source": [
    "sh2_df.head()"
   ]
  },
  {
   "cell_type": "code",
   "execution_count": 88,
   "id": "f8798be4",
   "metadata": {},
   "outputs": [],
   "source": [
    "sh2_df = sh2_df.reset_index(level=1)"
   ]
  },
  {
   "cell_type": "code",
   "execution_count": 89,
   "id": "9926d5cc",
   "metadata": {},
   "outputs": [
    {
     "data": {
      "text/html": [
       "<div>\n",
       "<style scoped>\n",
       "    .dataframe tbody tr th:only-of-type {\n",
       "        vertical-align: middle;\n",
       "    }\n",
       "\n",
       "    .dataframe tbody tr th {\n",
       "        vertical-align: top;\n",
       "    }\n",
       "\n",
       "    .dataframe thead th {\n",
       "        text-align: right;\n",
       "    }\n",
       "</style>\n",
       "<table border=\"1\" class=\"dataframe\">\n",
       "  <thead>\n",
       "    <tr style=\"text-align: right;\">\n",
       "      <th></th>\n",
       "      <th>Hour</th>\n",
       "      <th>Patient Name</th>\n",
       "      <th>Patient ID</th>\n",
       "      <th>Time</th>\n",
       "      <th>Age</th>\n",
       "      <th>Body Temperature</th>\n",
       "      <th>Heart Rate</th>\n",
       "      <th>Pulse</th>\n",
       "      <th>Blood Pressure</th>\n",
       "      <th>Sugar Catogery</th>\n",
       "      <th>Blood Sugar</th>\n",
       "      <th>Day</th>\n",
       "    </tr>\n",
       "    <tr>\n",
       "      <th>Date</th>\n",
       "      <th></th>\n",
       "      <th></th>\n",
       "      <th></th>\n",
       "      <th></th>\n",
       "      <th></th>\n",
       "      <th></th>\n",
       "      <th></th>\n",
       "      <th></th>\n",
       "      <th></th>\n",
       "      <th></th>\n",
       "      <th></th>\n",
       "      <th></th>\n",
       "    </tr>\n",
       "  </thead>\n",
       "  <tbody>\n",
       "    <tr>\n",
       "      <th>2021-08-01</th>\n",
       "      <td>0</td>\n",
       "      <td>Amelia Nixon</td>\n",
       "      <td>57</td>\n",
       "      <td>1900-01-01 00:00:00</td>\n",
       "      <td>40</td>\n",
       "      <td>96</td>\n",
       "      <td>81</td>\n",
       "      <td>99</td>\n",
       "      <td>120.0</td>\n",
       "      <td>0</td>\n",
       "      <td>Low</td>\n",
       "      <td>1</td>\n",
       "    </tr>\n",
       "    <tr>\n",
       "      <th>2021-08-01</th>\n",
       "      <td>1</td>\n",
       "      <td>Amelia Nixon</td>\n",
       "      <td>57</td>\n",
       "      <td>1900-01-01 01:00:00</td>\n",
       "      <td>40</td>\n",
       "      <td>96</td>\n",
       "      <td>110</td>\n",
       "      <td>102</td>\n",
       "      <td>86.0</td>\n",
       "      <td>1</td>\n",
       "      <td>Normal</td>\n",
       "      <td>1</td>\n",
       "    </tr>\n",
       "    <tr>\n",
       "      <th>2021-08-01</th>\n",
       "      <td>2</td>\n",
       "      <td>Amelia Nixon</td>\n",
       "      <td>57</td>\n",
       "      <td>1900-01-01 02:00:00</td>\n",
       "      <td>40</td>\n",
       "      <td>98</td>\n",
       "      <td>116</td>\n",
       "      <td>116</td>\n",
       "      <td>90.0</td>\n",
       "      <td>1</td>\n",
       "      <td>Normal</td>\n",
       "      <td>1</td>\n",
       "    </tr>\n",
       "    <tr>\n",
       "      <th>2021-08-01</th>\n",
       "      <td>3</td>\n",
       "      <td>Amelia Nixon</td>\n",
       "      <td>57</td>\n",
       "      <td>1900-01-01 03:00:00</td>\n",
       "      <td>40</td>\n",
       "      <td>97</td>\n",
       "      <td>119</td>\n",
       "      <td>108</td>\n",
       "      <td>99.0</td>\n",
       "      <td>1</td>\n",
       "      <td>Normal</td>\n",
       "      <td>1</td>\n",
       "    </tr>\n",
       "    <tr>\n",
       "      <th>2021-08-01</th>\n",
       "      <td>4</td>\n",
       "      <td>Amelia Nixon</td>\n",
       "      <td>57</td>\n",
       "      <td>1900-01-01 04:00:00</td>\n",
       "      <td>40</td>\n",
       "      <td>98</td>\n",
       "      <td>89</td>\n",
       "      <td>73</td>\n",
       "      <td>88.0</td>\n",
       "      <td>0</td>\n",
       "      <td>Low</td>\n",
       "      <td>1</td>\n",
       "    </tr>\n",
       "    <tr>\n",
       "      <th>...</th>\n",
       "      <td>...</td>\n",
       "      <td>...</td>\n",
       "      <td>...</td>\n",
       "      <td>...</td>\n",
       "      <td>...</td>\n",
       "      <td>...</td>\n",
       "      <td>...</td>\n",
       "      <td>...</td>\n",
       "      <td>...</td>\n",
       "      <td>...</td>\n",
       "      <td>...</td>\n",
       "      <td>...</td>\n",
       "    </tr>\n",
       "    <tr>\n",
       "      <th>2021-08-30</th>\n",
       "      <td>19</td>\n",
       "      <td>Amelia Nixon</td>\n",
       "      <td>57</td>\n",
       "      <td>1900-01-01 19:00:00</td>\n",
       "      <td>756</td>\n",
       "      <td>99</td>\n",
       "      <td>109</td>\n",
       "      <td>122</td>\n",
       "      <td>101.0</td>\n",
       "      <td>2</td>\n",
       "      <td>High</td>\n",
       "      <td>30</td>\n",
       "    </tr>\n",
       "    <tr>\n",
       "      <th>2021-08-30</th>\n",
       "      <td>20</td>\n",
       "      <td>Amelia Nixon</td>\n",
       "      <td>57</td>\n",
       "      <td>1900-01-01 20:00:00</td>\n",
       "      <td>757</td>\n",
       "      <td>99</td>\n",
       "      <td>78</td>\n",
       "      <td>77</td>\n",
       "      <td>99.0</td>\n",
       "      <td>2</td>\n",
       "      <td>High</td>\n",
       "      <td>30</td>\n",
       "    </tr>\n",
       "    <tr>\n",
       "      <th>2021-08-30</th>\n",
       "      <td>21</td>\n",
       "      <td>Amelia Nixon</td>\n",
       "      <td>57</td>\n",
       "      <td>1900-01-01 21:00:00</td>\n",
       "      <td>758</td>\n",
       "      <td>99</td>\n",
       "      <td>72</td>\n",
       "      <td>90</td>\n",
       "      <td>90.0</td>\n",
       "      <td>1</td>\n",
       "      <td>Normal</td>\n",
       "      <td>30</td>\n",
       "    </tr>\n",
       "    <tr>\n",
       "      <th>2021-08-30</th>\n",
       "      <td>22</td>\n",
       "      <td>Amelia Nixon</td>\n",
       "      <td>57</td>\n",
       "      <td>1900-01-01 22:00:00</td>\n",
       "      <td>759</td>\n",
       "      <td>99</td>\n",
       "      <td>115</td>\n",
       "      <td>107</td>\n",
       "      <td>98.0</td>\n",
       "      <td>2</td>\n",
       "      <td>High</td>\n",
       "      <td>30</td>\n",
       "    </tr>\n",
       "    <tr>\n",
       "      <th>2021-08-30</th>\n",
       "      <td>23</td>\n",
       "      <td>Amelia Nixon</td>\n",
       "      <td>57</td>\n",
       "      <td>1900-01-01 23:00:00</td>\n",
       "      <td>760</td>\n",
       "      <td>99</td>\n",
       "      <td>113</td>\n",
       "      <td>107</td>\n",
       "      <td>99.0</td>\n",
       "      <td>1</td>\n",
       "      <td>Normal</td>\n",
       "      <td>30</td>\n",
       "    </tr>\n",
       "  </tbody>\n",
       "</table>\n",
       "<p>744 rows × 12 columns</p>\n",
       "</div>"
      ],
      "text/plain": [
       "            Hour  Patient Name  Patient ID                Time  Age  \\\n",
       "Date                                                                  \n",
       "2021-08-01     0  Amelia Nixon          57 1900-01-01 00:00:00   40   \n",
       "2021-08-01     1  Amelia Nixon          57 1900-01-01 01:00:00   40   \n",
       "2021-08-01     2  Amelia Nixon          57 1900-01-01 02:00:00   40   \n",
       "2021-08-01     3  Amelia Nixon          57 1900-01-01 03:00:00   40   \n",
       "2021-08-01     4  Amelia Nixon          57 1900-01-01 04:00:00   40   \n",
       "...          ...           ...         ...                 ...  ...   \n",
       "2021-08-30    19  Amelia Nixon          57 1900-01-01 19:00:00  756   \n",
       "2021-08-30    20  Amelia Nixon          57 1900-01-01 20:00:00  757   \n",
       "2021-08-30    21  Amelia Nixon          57 1900-01-01 21:00:00  758   \n",
       "2021-08-30    22  Amelia Nixon          57 1900-01-01 22:00:00  759   \n",
       "2021-08-30    23  Amelia Nixon          57 1900-01-01 23:00:00  760   \n",
       "\n",
       "            Body Temperature  Heart Rate  Pulse  Blood Pressure  \\\n",
       "Date                                                              \n",
       "2021-08-01                96          81     99           120.0   \n",
       "2021-08-01                96         110    102            86.0   \n",
       "2021-08-01                98         116    116            90.0   \n",
       "2021-08-01                97         119    108            99.0   \n",
       "2021-08-01                98          89     73            88.0   \n",
       "...                      ...         ...    ...             ...   \n",
       "2021-08-30                99         109    122           101.0   \n",
       "2021-08-30                99          78     77            99.0   \n",
       "2021-08-30                99          72     90            90.0   \n",
       "2021-08-30                99         115    107            98.0   \n",
       "2021-08-30                99         113    107            99.0   \n",
       "\n",
       "            Sugar Catogery Blood Sugar  Day  \n",
       "Date                                         \n",
       "2021-08-01               0         Low    1  \n",
       "2021-08-01               1      Normal    1  \n",
       "2021-08-01               1      Normal    1  \n",
       "2021-08-01               1      Normal    1  \n",
       "2021-08-01               0         Low    1  \n",
       "...                    ...         ...  ...  \n",
       "2021-08-30               2        High   30  \n",
       "2021-08-30               2        High   30  \n",
       "2021-08-30               1      Normal   30  \n",
       "2021-08-30               2        High   30  \n",
       "2021-08-30               1      Normal   30  \n",
       "\n",
       "[744 rows x 12 columns]"
      ]
     },
     "execution_count": 89,
     "metadata": {},
     "output_type": "execute_result"
    }
   ],
   "source": [
    "sh2_df"
   ]
  },
  {
   "cell_type": "code",
   "execution_count": 98,
   "id": "68666830",
   "metadata": {},
   "outputs": [
    {
     "data": {
      "image/png": "[encoded data removed]",
      "text/plain": [
       "<Figure size 1440x432 with 1 Axes>"
      ]
     },
     "metadata": {
      "needs_background": "light"
     },
     "output_type": "display_data"
    }
   ],
   "source": [
    "sh2_df_day=sh2_df.pivot_table(index='Day', columns='Blood Sugar',  aggfunc='size')\n",
    "sh2_df_day.plot(kind='bar',figsize=(20,6));"
   ]
  },
  {
   "cell_type": "code",
   "execution_count": 91,
   "id": "99e80c19",
   "metadata": {},
   "outputs": [],
   "source": [
    "## Variations in blood Sugar level by each day"
   ]
  },
  {
   "cell_type": "code",
   "execution_count": 92,
   "id": "582b9b54",
   "metadata": {},
   "outputs": [
    {
     "data": {
      "image/png": "[encoded data removed]",
      "text/plain": [
       "<Figure size 1440x432 with 1 Axes>"
      ]
     },
     "metadata": {
      "needs_background": "light"
     },
     "output_type": "display_data"
    }
   ],
   "source": [
    "sh2_df_hr=sh2_df.pivot_table(index='Hour', columns='Blood Sugar',  aggfunc='size')\n",
    "sh2_df_hr.plot(kind='bar',figsize=(20,6));"
   ]
  },
  {
   "cell_type": "code",
   "execution_count": 93,
   "id": "0a8bc449",
   "metadata": {},
   "outputs": [],
   "source": [
    "## Variations in blood Sugar level by hour"
   ]
  },
  {
   "cell_type": "code",
   "execution_count": 562,
   "id": "7de7c41a",
   "metadata": {},
   "outputs": [],
   "source": [
    "sh2_df.drop(columns=['Blood Sugar','Patient Name','Time','Patient ID'],axis=1,inplace=True)"
   ]
  },
  {
   "cell_type": "code",
   "execution_count": 608,
   "id": "7ccb9a58",
   "metadata": {},
   "outputs": [
    {
     "data": {
      "text/plain": [
       "97.54032258064517"
      ]
     },
     "execution_count": 608,
     "metadata": {},
     "output_type": "execute_result"
    }
   ],
   "source": [
    "sh2_df['Body Temperature'].mean()"
   ]
  },
  {
   "cell_type": "code",
   "execution_count": 614,
   "id": "fa6fbfb9",
   "metadata": {},
   "outputs": [],
   "source": [
    "X=sh2_df.drop(columns=['Sugar Catogery','Age'],axis=1)\n",
    "y=sh2_df['Sugar Catogery']"
   ]
  },
  {
   "cell_type": "code",
   "execution_count": 621,
   "id": "4dfd93a0",
   "metadata": {},
   "outputs": [],
   "source": [
    "X_train, X_test, y_train, y_test=train_test_split(X,y,test_size=0.2,random_state=0)"
   ]
  },
  {
   "cell_type": "code",
   "execution_count": 616,
   "id": "cb52f371",
   "metadata": {},
   "outputs": [],
   "source": [
    "norm_col=['Body Temperature','Heart Rate','Blood Pressure','Pulse']"
   ]
  },
  {
   "cell_type": "code",
   "execution_count": 622,
   "id": "c56ed77c",
   "metadata": {},
   "outputs": [],
   "source": [
    "X_train,X_test=transf_pipeline(X_train,X_test,X.columns)"
   ]
  },
  {
   "cell_type": "code",
   "execution_count": 623,
   "id": "c6552d19",
   "metadata": {},
   "outputs": [
    {
     "data": {
      "text/html": [
       "<div>\n",
       "<style scoped>\n",
       "    .dataframe tbody tr th:only-of-type {\n",
       "        vertical-align: middle;\n",
       "    }\n",
       "\n",
       "    .dataframe tbody tr th {\n",
       "        vertical-align: top;\n",
       "    }\n",
       "\n",
       "    .dataframe thead th {\n",
       "        text-align: right;\n",
       "    }\n",
       "</style>\n",
       "<table border=\"1\" class=\"dataframe\">\n",
       "  <thead>\n",
       "    <tr style=\"text-align: right;\">\n",
       "      <th></th>\n",
       "      <th>0</th>\n",
       "      <th>1</th>\n",
       "      <th>2</th>\n",
       "      <th>3</th>\n",
       "      <th>4</th>\n",
       "      <th>5</th>\n",
       "    </tr>\n",
       "  </thead>\n",
       "  <tbody>\n",
       "    <tr>\n",
       "      <th>0</th>\n",
       "      <td>1.663051</td>\n",
       "      <td>-0.304917</td>\n",
       "      <td>-0.775461</td>\n",
       "      <td>-1.000639</td>\n",
       "      <td>0.068891</td>\n",
       "      <td>0.528077</td>\n",
       "    </tr>\n",
       "    <tr>\n",
       "      <th>1</th>\n",
       "      <td>-1.522395</td>\n",
       "      <td>-0.882706</td>\n",
       "      <td>-0.620595</td>\n",
       "      <td>-0.422191</td>\n",
       "      <td>-1.198349</td>\n",
       "      <td>-1.231194</td>\n",
       "    </tr>\n",
       "    <tr>\n",
       "      <th>2</th>\n",
       "      <td>-0.219258</td>\n",
       "      <td>-1.460494</td>\n",
       "      <td>-0.568972</td>\n",
       "      <td>-0.474778</td>\n",
       "      <td>-0.905909</td>\n",
       "      <td>0.645362</td>\n",
       "    </tr>\n",
       "    <tr>\n",
       "      <th>3</th>\n",
       "      <td>-0.798430</td>\n",
       "      <td>-0.882706</td>\n",
       "      <td>-1.704661</td>\n",
       "      <td>-0.948053</td>\n",
       "      <td>-0.808429</td>\n",
       "      <td>1.700925</td>\n",
       "    </tr>\n",
       "    <tr>\n",
       "      <th>4</th>\n",
       "      <td>0.359914</td>\n",
       "      <td>0.850660</td>\n",
       "      <td>0.411850</td>\n",
       "      <td>1.418323</td>\n",
       "      <td>-0.954649</td>\n",
       "      <td>0.645362</td>\n",
       "    </tr>\n",
       "    <tr>\n",
       "      <th>...</th>\n",
       "      <td>...</td>\n",
       "      <td>...</td>\n",
       "      <td>...</td>\n",
       "      <td>...</td>\n",
       "      <td>...</td>\n",
       "      <td>...</td>\n",
       "    </tr>\n",
       "    <tr>\n",
       "      <th>590</th>\n",
       "      <td>-0.074465</td>\n",
       "      <td>0.272872</td>\n",
       "      <td>-0.414106</td>\n",
       "      <td>-1.736844</td>\n",
       "      <td>-0.321029</td>\n",
       "      <td>1.583640</td>\n",
       "    </tr>\n",
       "    <tr>\n",
       "      <th>591</th>\n",
       "      <td>-1.667188</td>\n",
       "      <td>-0.882706</td>\n",
       "      <td>-0.930328</td>\n",
       "      <td>-1.421328</td>\n",
       "      <td>0.458811</td>\n",
       "      <td>-0.762055</td>\n",
       "    </tr>\n",
       "    <tr>\n",
       "      <th>592</th>\n",
       "      <td>-0.943223</td>\n",
       "      <td>1.428449</td>\n",
       "      <td>-1.291684</td>\n",
       "      <td>-1.105811</td>\n",
       "      <td>2.164712</td>\n",
       "      <td>1.231786</td>\n",
       "    </tr>\n",
       "    <tr>\n",
       "      <th>593</th>\n",
       "      <td>-0.653637</td>\n",
       "      <td>0.272872</td>\n",
       "      <td>1.599161</td>\n",
       "      <td>1.681253</td>\n",
       "      <td>0.215111</td>\n",
       "      <td>0.879931</td>\n",
       "    </tr>\n",
       "    <tr>\n",
       "      <th>594</th>\n",
       "      <td>0.070328</td>\n",
       "      <td>-0.304917</td>\n",
       "      <td>1.495917</td>\n",
       "      <td>0.945048</td>\n",
       "      <td>0.507551</td>\n",
       "      <td>1.466355</td>\n",
       "    </tr>\n",
       "  </tbody>\n",
       "</table>\n",
       "<p>595 rows × 6 columns</p>\n",
       "</div>"
      ],
      "text/plain": [
       "            0         1         2         3         4         5\n",
       "0    1.663051 -0.304917 -0.775461 -1.000639  0.068891  0.528077\n",
       "1   -1.522395 -0.882706 -0.620595 -0.422191 -1.198349 -1.231194\n",
       "2   -0.219258 -1.460494 -0.568972 -0.474778 -0.905909  0.645362\n",
       "3   -0.798430 -0.882706 -1.704661 -0.948053 -0.808429  1.700925\n",
       "4    0.359914  0.850660  0.411850  1.418323 -0.954649  0.645362\n",
       "..        ...       ...       ...       ...       ...       ...\n",
       "590 -0.074465  0.272872 -0.414106 -1.736844 -0.321029  1.583640\n",
       "591 -1.667188 -0.882706 -0.930328 -1.421328  0.458811 -0.762055\n",
       "592 -0.943223  1.428449 -1.291684 -1.105811  2.164712  1.231786\n",
       "593 -0.653637  0.272872  1.599161  1.681253  0.215111  0.879931\n",
       "594  0.070328 -0.304917  1.495917  0.945048  0.507551  1.466355\n",
       "\n",
       "[595 rows x 6 columns]"
      ]
     },
     "execution_count": 623,
     "metadata": {},
     "output_type": "execute_result"
    }
   ],
   "source": [
    "pd.DataFrame(X_train)"
   ]
  },
  {
   "cell_type": "markdown",
   "id": "98afd0bc",
   "metadata": {},
   "source": [
    "## KNN"
   ]
  },
  {
   "cell_type": "code",
   "execution_count": 624,
   "id": "862a31d5",
   "metadata": {},
   "outputs": [
    {
     "name": "stdout",
     "output_type": "stream",
     "text": [
      "\n",
      "============================== Model Evaluation ==============================\n",
      "\n",
      "Classification report:\n",
      "               precision    recall  f1-score   support\n",
      "\n",
      "           0       0.27      0.37      0.31        46\n",
      "           1       0.39      0.39      0.39        57\n",
      "           2       0.34      0.22      0.27        46\n",
      "\n",
      "    accuracy                           0.33       149\n",
      "   macro avg       0.33      0.32      0.32       149\n",
      "weighted avg       0.34      0.33      0.33       149\n",
      "\n",
      "\n"
     ]
    },
    {
     "data": {
      "image/png": "[encoded data removed]",
      "text/plain": [
       "<Figure size 720x432 with 2 Axes>"
      ]
     },
     "metadata": {
      "needs_background": "light"
     },
     "output_type": "display_data"
    }
   ],
   "source": [
    "from sklearn.neighbors import KNeighborsClassifier\n",
    "classifier_KNN = KNeighborsClassifier(n_neighbors = 5)\n",
    "classifier_KNN.fit(X_train, y_train)\n",
    "y_pred=classifier_KNN.predict(X_test)\n",
    "accuracy=class_report(y_test,y_pred)\n",
    "conf_matrix(y_test,y_pred,accuracy)"
   ]
  },
  {
   "cell_type": "markdown",
   "id": "6ea70fe2",
   "metadata": {},
   "source": [
    "## Naive Bayes"
   ]
  },
  {
   "cell_type": "code",
   "execution_count": 625,
   "id": "1e3dc71a",
   "metadata": {},
   "outputs": [
    {
     "name": "stdout",
     "output_type": "stream",
     "text": [
      "\n",
      "============================== Model Evaluation ==============================\n",
      "\n",
      "Classification report:\n",
      "               precision    recall  f1-score   support\n",
      "\n",
      "           0       0.27      0.07      0.11        46\n",
      "           1       0.43      0.77      0.55        57\n",
      "           2       0.33      0.26      0.29        46\n",
      "\n",
      "    accuracy                           0.40       149\n",
      "   macro avg       0.35      0.37      0.32       149\n",
      "weighted avg       0.35      0.40      0.33       149\n",
      "\n",
      "\n"
     ]
    },
    {
     "data": {
      "image/png": "[encoded data removed]",
      "text/plain": [
       "<Figure size 720x432 with 2 Axes>"
      ]
     },
     "metadata": {
      "needs_background": "light"
     },
     "output_type": "display_data"
    }
   ],
   "source": [
    "from sklearn.naive_bayes import GaussianNB\n",
    "classifier_NB = GaussianNB()\n",
    "classifier_NB.fit(X_train, y_train)\n",
    "y_pred = classifier_NB.predict(X_test)\n",
    "accuracy=class_report(y_test,y_pred)\n",
    "conf_matrix(y_test,y_pred,accuracy)"
   ]
  },
  {
   "cell_type": "markdown",
   "id": "afca4eb2",
   "metadata": {},
   "source": [
    "## SVM"
   ]
  },
  {
   "cell_type": "code",
   "execution_count": 626,
   "id": "58add750",
   "metadata": {},
   "outputs": [
    {
     "name": "stdout",
     "output_type": "stream",
     "text": [
      "\n",
      "============================== Model Evaluation ==============================\n",
      "\n",
      "Classification report:\n",
      "               precision    recall  f1-score   support\n",
      "\n",
      "           0       0.39      0.20      0.26        46\n",
      "           1       0.43      0.79      0.56        57\n",
      "           2       0.36      0.17      0.24        46\n",
      "\n",
      "    accuracy                           0.42       149\n",
      "   macro avg       0.40      0.39      0.35       149\n",
      "weighted avg       0.40      0.42      0.37       149\n",
      "\n",
      "\n"
     ]
    },
    {
     "data": {
      "image/png": "[encoded data removed]",
      "text/plain": [
       "<Figure size 720x432 with 2 Axes>"
      ]
     },
     "metadata": {
      "needs_background": "light"
     },
     "output_type": "display_data"
    }
   ],
   "source": [
    "from sklearn.svm import SVC\n",
    "classifier_SVM = SVC(kernel = 'poly', random_state = 0)\n",
    "classifier_SVM.fit(X_train, y_train)\n",
    "y_pred = classifier_SVM.predict(X_test)\n",
    "accuracy=class_report(y_test,y_pred)\n",
    "conf_matrix(y_test,y_pred,accuracy)"
   ]
  },
  {
   "cell_type": "markdown",
   "id": "a19f82da",
   "metadata": {},
   "source": [
    "## Random Forest"
   ]
  },
  {
   "cell_type": "code",
   "execution_count": 627,
   "id": "5e56571d",
   "metadata": {},
   "outputs": [
    {
     "name": "stdout",
     "output_type": "stream",
     "text": [
      "\n",
      "============================== Model Evaluation ==============================\n",
      "\n",
      "Classification report:\n",
      "               precision    recall  f1-score   support\n",
      "\n",
      "           0       0.37      0.46      0.41        46\n",
      "           1       0.44      0.46      0.45        57\n",
      "           2       0.36      0.26      0.30        46\n",
      "\n",
      "    accuracy                           0.40       149\n",
      "   macro avg       0.39      0.39      0.39       149\n",
      "weighted avg       0.39      0.40      0.39       149\n",
      "\n",
      "\n"
     ]
    },
    {
     "data": {
      "image/png": "[encoded data removed]",
      "text/plain": [
       "<Figure size 720x432 with 2 Axes>"
      ]
     },
     "metadata": {
      "needs_background": "light"
     },
     "output_type": "display_data"
    }
   ],
   "source": [
    "from sklearn.ensemble import RandomForestClassifier\n",
    "classifier_RF = RandomForestClassifier(n_estimators = 10, criterion = 'entropy', random_state = 0)\n",
    "classifier_RF.fit(X_train, y_train)\n",
    "y_pred = classifier_RF.predict(X_test)\n",
    "accuracy=class_report(y_test,y_pred)\n",
    "conf_matrix(y_test,y_pred,accuracy)"
   ]
  },
  {
   "cell_type": "markdown",
   "id": "e5e68cbf",
   "metadata": {},
   "source": [
    "## Per Month"
   ]
  },
  {
   "cell_type": "code",
   "execution_count": 820,
   "id": "21eaaa3a",
   "metadata": {},
   "outputs": [],
   "source": [
    "sh3_df=pd.read_excel(\"DataSet_DS_ML.xlsx\", header=1,sheet_name=2)"
   ]
  },
  {
   "cell_type": "code",
   "execution_count": 821,
   "id": "b51075e0",
   "metadata": {},
   "outputs": [
    {
     "data": {
      "text/html": [
       "<div>\n",
       "<style scoped>\n",
       "    .dataframe tbody tr th:only-of-type {\n",
       "        vertical-align: middle;\n",
       "    }\n",
       "\n",
       "    .dataframe tbody tr th {\n",
       "        vertical-align: top;\n",
       "    }\n",
       "\n",
       "    .dataframe thead th {\n",
       "        text-align: right;\n",
       "    }\n",
       "</style>\n",
       "<table border=\"1\" class=\"dataframe\">\n",
       "  <thead>\n",
       "    <tr style=\"text-align: right;\">\n",
       "      <th></th>\n",
       "      <th>Patient Name</th>\n",
       "      <th>Patient ID</th>\n",
       "      <th>Date</th>\n",
       "      <th>Age</th>\n",
       "      <th>Body Temperature</th>\n",
       "      <th>Heart Rate</th>\n",
       "      <th>Pulse</th>\n",
       "      <th>Blood Pressure</th>\n",
       "      <th>Sugar Catogery</th>\n",
       "      <th>Blood Sugar</th>\n",
       "    </tr>\n",
       "  </thead>\n",
       "  <tbody>\n",
       "    <tr>\n",
       "      <th>0</th>\n",
       "      <td>Amelia Nixon</td>\n",
       "      <td>57</td>\n",
       "      <td>2021-01-01 10:00:00.000</td>\n",
       "      <td>40</td>\n",
       "      <td>96</td>\n",
       "      <td>109</td>\n",
       "      <td>102</td>\n",
       "      <td>115</td>\n",
       "      <td>1</td>\n",
       "      <td>Normal</td>\n",
       "    </tr>\n",
       "    <tr>\n",
       "      <th>1</th>\n",
       "      <td>Amelia Nixon</td>\n",
       "      <td>57</td>\n",
       "      <td>2021-01-02 09:59:59.995</td>\n",
       "      <td>40</td>\n",
       "      <td>97</td>\n",
       "      <td>67</td>\n",
       "      <td>100</td>\n",
       "      <td>100</td>\n",
       "      <td>0</td>\n",
       "      <td>Low</td>\n",
       "    </tr>\n",
       "    <tr>\n",
       "      <th>2</th>\n",
       "      <td>Amelia Nixon</td>\n",
       "      <td>57</td>\n",
       "      <td>2021-01-03 09:59:59.995</td>\n",
       "      <td>40</td>\n",
       "      <td>96</td>\n",
       "      <td>116</td>\n",
       "      <td>109</td>\n",
       "      <td>112</td>\n",
       "      <td>0</td>\n",
       "      <td>Low</td>\n",
       "    </tr>\n",
       "    <tr>\n",
       "      <th>3</th>\n",
       "      <td>Amelia Nixon</td>\n",
       "      <td>57</td>\n",
       "      <td>2021-01-04 09:59:59.995</td>\n",
       "      <td>40</td>\n",
       "      <td>99</td>\n",
       "      <td>93</td>\n",
       "      <td>85</td>\n",
       "      <td>114</td>\n",
       "      <td>0</td>\n",
       "      <td>Low</td>\n",
       "    </tr>\n",
       "    <tr>\n",
       "      <th>4</th>\n",
       "      <td>Amelia Nixon</td>\n",
       "      <td>57</td>\n",
       "      <td>2021-01-05 09:59:59.995</td>\n",
       "      <td>40</td>\n",
       "      <td>100</td>\n",
       "      <td>77</td>\n",
       "      <td>63</td>\n",
       "      <td>166</td>\n",
       "      <td>0</td>\n",
       "      <td>Low</td>\n",
       "    </tr>\n",
       "  </tbody>\n",
       "</table>\n",
       "</div>"
      ],
      "text/plain": [
       "   Patient Name  Patient ID                    Date  Age  Body Temperature  \\\n",
       "0  Amelia Nixon          57 2021-01-01 10:00:00.000   40                96   \n",
       "1  Amelia Nixon          57 2021-01-02 09:59:59.995   40                97   \n",
       "2  Amelia Nixon          57 2021-01-03 09:59:59.995   40                96   \n",
       "3  Amelia Nixon          57 2021-01-04 09:59:59.995   40                99   \n",
       "4  Amelia Nixon          57 2021-01-05 09:59:59.995   40               100   \n",
       "\n",
       "   Heart Rate  Pulse  Blood Pressure  Sugar Catogery Blood Sugar  \n",
       "0         109    102             115               1      Normal  \n",
       "1          67    100             100               0         Low  \n",
       "2         116    109             112               0         Low  \n",
       "3          93     85             114               0         Low  \n",
       "4          77     63             166               0         Low  "
      ]
     },
     "execution_count": 821,
     "metadata": {},
     "output_type": "execute_result"
    }
   ],
   "source": [
    "sh3_df.head()"
   ]
  },
  {
   "cell_type": "code",
   "execution_count": 822,
   "id": "e6730941",
   "metadata": {},
   "outputs": [
    {
     "name": "stdout",
     "output_type": "stream",
     "text": [
      "<class 'pandas.core.frame.DataFrame'>\n",
      "RangeIndex: 365 entries, 0 to 364\n",
      "Data columns (total 10 columns):\n",
      " #   Column            Non-Null Count  Dtype         \n",
      "---  ------            --------------  -----         \n",
      " 0   Patient Name      365 non-null    object        \n",
      " 1   Patient ID        365 non-null    int64         \n",
      " 2   Date              365 non-null    datetime64[ns]\n",
      " 3   Age               365 non-null    int64         \n",
      " 4   Body Temperature  365 non-null    int64         \n",
      " 5   Heart Rate        365 non-null    int64         \n",
      " 6   Pulse             365 non-null    int64         \n",
      " 7   Blood Pressure    365 non-null    int64         \n",
      " 8   Sugar Catogery    365 non-null    int64         \n",
      " 9   Blood Sugar       365 non-null    object        \n",
      "dtypes: datetime64[ns](1), int64(7), object(2)\n",
      "memory usage: 28.6+ KB\n"
     ]
    }
   ],
   "source": [
    "sh3_df.info()"
   ]
  },
  {
   "cell_type": "code",
   "execution_count": 852,
   "id": "fd82b417",
   "metadata": {},
   "outputs": [],
   "source": [
    "## Adding Month, Hour and Date as feature"
   ]
  },
  {
   "cell_type": "code",
   "execution_count": 823,
   "id": "2b36074e",
   "metadata": {},
   "outputs": [],
   "source": [
    "sh3_df['Month']=sh3_df['Date'].dt.month"
   ]
  },
  {
   "cell_type": "code",
   "execution_count": 824,
   "id": "b680a343",
   "metadata": {},
   "outputs": [],
   "source": [
    "sh3_df['Day']=sh3_df['Date'].dt.day"
   ]
  },
  {
   "cell_type": "code",
   "execution_count": 825,
   "id": "39247013",
   "metadata": {},
   "outputs": [],
   "source": [
    "sh3_df['Date']=pd.to_datetime(sh3_df['Date'].dt.date)"
   ]
  },
  {
   "cell_type": "code",
   "execution_count": 826,
   "id": "76396d63",
   "metadata": {},
   "outputs": [],
   "source": [
    "sh3_df.set_index(pd.to_datetime(sh3_df['Date']),inplace=True)"
   ]
  },
  {
   "cell_type": "code",
   "execution_count": 827,
   "id": "663c2eba",
   "metadata": {},
   "outputs": [
    {
     "data": {
      "text/plain": [
       "DatetimeIndex(['2021-01-01', '2021-01-02', '2021-01-03', '2021-01-04',\n",
       "               '2021-01-05', '2021-01-06', '2021-01-07', '2021-01-08',\n",
       "               '2021-01-09', '2021-01-10',\n",
       "               ...\n",
       "               '2021-12-22', '2021-12-23', '2021-12-24', '2021-12-25',\n",
       "               '2021-12-26', '2021-12-27', '2021-12-28', '2021-12-29',\n",
       "               '2021-12-30', '2021-12-31'],\n",
       "              dtype='datetime64[ns]', name='Date', length=365, freq=None)"
      ]
     },
     "execution_count": 827,
     "metadata": {},
     "output_type": "execute_result"
    }
   ],
   "source": [
    "sh3_df.index"
   ]
  },
  {
   "cell_type": "code",
   "execution_count": 828,
   "id": "dd712b83",
   "metadata": {},
   "outputs": [
    {
     "data": {
      "image/png": "[encoded data removed]",
      "text/plain": [
       "<Figure size 1152x504 with 1 Axes>"
      ]
     },
     "metadata": {
      "needs_background": "light"
     },
     "output_type": "display_data"
    }
   ],
   "source": [
    "sh3_df.loc['2021-01-01':'2021-01-31']['Sugar Catogery'].plot(figsize=(16,7));"
   ]
  },
  {
   "cell_type": "code",
   "execution_count": 853,
   "id": "39642530",
   "metadata": {},
   "outputs": [],
   "source": [
    "## Variations in blood Sugar level in the month of Jan. It was low in this the start of the month"
   ]
  },
  {
   "cell_type": "code",
   "execution_count": 829,
   "id": "dd87e065",
   "metadata": {},
   "outputs": [
    {
     "data": {
      "image/png": "[encoded data removed]",
      "text/plain": [
       "<Figure size 1440x504 with 1 Axes>"
      ]
     },
     "metadata": {
      "needs_background": "light"
     },
     "output_type": "display_data"
    }
   ],
   "source": [
    "sh3_df.loc['2021-01':'2021-06']['Sugar Catogery'].plot(figsize=(20,7));"
   ]
  },
  {
   "cell_type": "code",
   "execution_count": 854,
   "id": "33bd11bd",
   "metadata": {},
   "outputs": [],
   "source": [
    "## Variations in blood Sugar level for 1st 6 months"
   ]
  },
  {
   "cell_type": "code",
   "execution_count": 685,
   "id": "fd0e512d",
   "metadata": {},
   "outputs": [
    {
     "data": {
      "text/html": [
       "<div>\n",
       "<style scoped>\n",
       "    .dataframe tbody tr th:only-of-type {\n",
       "        vertical-align: middle;\n",
       "    }\n",
       "\n",
       "    .dataframe tbody tr th {\n",
       "        vertical-align: top;\n",
       "    }\n",
       "\n",
       "    .dataframe thead th {\n",
       "        text-align: right;\n",
       "    }\n",
       "</style>\n",
       "<table border=\"1\" class=\"dataframe\">\n",
       "  <thead>\n",
       "    <tr style=\"text-align: right;\">\n",
       "      <th></th>\n",
       "      <th>Patient Name</th>\n",
       "      <th>Patient ID</th>\n",
       "      <th>Date</th>\n",
       "      <th>Age</th>\n",
       "      <th>Body Temperature</th>\n",
       "      <th>Heart Rate</th>\n",
       "      <th>Pulse</th>\n",
       "      <th>Blood Pressure</th>\n",
       "      <th>Sugar Catogery</th>\n",
       "      <th>Blood Sugar</th>\n",
       "      <th>Month</th>\n",
       "      <th>Day</th>\n",
       "    </tr>\n",
       "    <tr>\n",
       "      <th>Date</th>\n",
       "      <th></th>\n",
       "      <th></th>\n",
       "      <th></th>\n",
       "      <th></th>\n",
       "      <th></th>\n",
       "      <th></th>\n",
       "      <th></th>\n",
       "      <th></th>\n",
       "      <th></th>\n",
       "      <th></th>\n",
       "      <th></th>\n",
       "      <th></th>\n",
       "    </tr>\n",
       "  </thead>\n",
       "  <tbody>\n",
       "    <tr>\n",
       "      <th>2021-01-01</th>\n",
       "      <td>Amelia Nixon</td>\n",
       "      <td>57</td>\n",
       "      <td>2021-01-01</td>\n",
       "      <td>40</td>\n",
       "      <td>96</td>\n",
       "      <td>109</td>\n",
       "      <td>102</td>\n",
       "      <td>115</td>\n",
       "      <td>1</td>\n",
       "      <td>Normal</td>\n",
       "      <td>1</td>\n",
       "      <td>1</td>\n",
       "    </tr>\n",
       "    <tr>\n",
       "      <th>2021-01-02</th>\n",
       "      <td>Amelia Nixon</td>\n",
       "      <td>57</td>\n",
       "      <td>2021-01-02</td>\n",
       "      <td>40</td>\n",
       "      <td>97</td>\n",
       "      <td>67</td>\n",
       "      <td>100</td>\n",
       "      <td>100</td>\n",
       "      <td>0</td>\n",
       "      <td>Low</td>\n",
       "      <td>1</td>\n",
       "      <td>2</td>\n",
       "    </tr>\n",
       "    <tr>\n",
       "      <th>2021-01-03</th>\n",
       "      <td>Amelia Nixon</td>\n",
       "      <td>57</td>\n",
       "      <td>2021-01-03</td>\n",
       "      <td>40</td>\n",
       "      <td>96</td>\n",
       "      <td>116</td>\n",
       "      <td>109</td>\n",
       "      <td>112</td>\n",
       "      <td>0</td>\n",
       "      <td>Low</td>\n",
       "      <td>1</td>\n",
       "      <td>3</td>\n",
       "    </tr>\n",
       "    <tr>\n",
       "      <th>2021-01-04</th>\n",
       "      <td>Amelia Nixon</td>\n",
       "      <td>57</td>\n",
       "      <td>2021-01-04</td>\n",
       "      <td>40</td>\n",
       "      <td>99</td>\n",
       "      <td>93</td>\n",
       "      <td>85</td>\n",
       "      <td>114</td>\n",
       "      <td>0</td>\n",
       "      <td>Low</td>\n",
       "      <td>1</td>\n",
       "      <td>4</td>\n",
       "    </tr>\n",
       "    <tr>\n",
       "      <th>2021-01-05</th>\n",
       "      <td>Amelia Nixon</td>\n",
       "      <td>57</td>\n",
       "      <td>2021-01-05</td>\n",
       "      <td>40</td>\n",
       "      <td>100</td>\n",
       "      <td>77</td>\n",
       "      <td>63</td>\n",
       "      <td>166</td>\n",
       "      <td>0</td>\n",
       "      <td>Low</td>\n",
       "      <td>1</td>\n",
       "      <td>5</td>\n",
       "    </tr>\n",
       "  </tbody>\n",
       "</table>\n",
       "</div>"
      ],
      "text/plain": [
       "            Patient Name  Patient ID       Date  Age  Body Temperature  \\\n",
       "Date                                                                     \n",
       "2021-01-01  Amelia Nixon          57 2021-01-01   40                96   \n",
       "2021-01-02  Amelia Nixon          57 2021-01-02   40                97   \n",
       "2021-01-03  Amelia Nixon          57 2021-01-03   40                96   \n",
       "2021-01-04  Amelia Nixon          57 2021-01-04   40                99   \n",
       "2021-01-05  Amelia Nixon          57 2021-01-05   40               100   \n",
       "\n",
       "            Heart Rate  Pulse  Blood Pressure  Sugar Catogery Blood Sugar  \\\n",
       "Date                                                                        \n",
       "2021-01-01         109    102             115               1      Normal   \n",
       "2021-01-02          67    100             100               0         Low   \n",
       "2021-01-03         116    109             112               0         Low   \n",
       "2021-01-04          93     85             114               0         Low   \n",
       "2021-01-05          77     63             166               0         Low   \n",
       "\n",
       "            Month  Day  \n",
       "Date                    \n",
       "2021-01-01      1    1  \n",
       "2021-01-02      1    2  \n",
       "2021-01-03      1    3  \n",
       "2021-01-04      1    4  \n",
       "2021-01-05      1    5  "
      ]
     },
     "execution_count": 685,
     "metadata": {},
     "output_type": "execute_result"
    }
   ],
   "source": [
    "sh3_df.head()"
   ]
  },
  {
   "cell_type": "code",
   "execution_count": 830,
   "id": "58205d50",
   "metadata": {},
   "outputs": [],
   "source": [
    "sh3_df['Age']=40"
   ]
  },
  {
   "cell_type": "code",
   "execution_count": 832,
   "id": "7836ed95",
   "metadata": {},
   "outputs": [
    {
     "data": {
      "image/png": "[encoded data removed]",
      "text/plain": [
       "<Figure size 864x288 with 1 Axes>"
      ]
     },
     "metadata": {
      "needs_background": "light"
     },
     "output_type": "display_data"
    }
   ],
   "source": [
    "sh3_df_month=sh3_df.pivot_table(index='Month', columns='Blood Sugar',  aggfunc='size')\n",
    "sh3_df_month.plot(kind='bar',figsize=(12,4));"
   ]
  },
  {
   "cell_type": "code",
   "execution_count": 836,
   "id": "39a0ffec",
   "metadata": {},
   "outputs": [
    {
     "data": {
      "image/png": "[encoded data removed]",
      "text/plain": [
       "<Figure size 1440x432 with 1 Axes>"
      ]
     },
     "metadata": {
      "needs_background": "light"
     },
     "output_type": "display_data"
    }
   ],
   "source": [
    "sh3_df_day=sh3_df.pivot_table(index='Day', columns='Blood Sugar',  aggfunc='size')\n",
    "sh3_df_day.plot(kind='bar',figsize=(20,6));"
   ]
  },
  {
   "cell_type": "code",
   "execution_count": 855,
   "id": "bb328326",
   "metadata": {},
   "outputs": [],
   "source": [
    "##Dropping unecessary features"
   ]
  },
  {
   "cell_type": "code",
   "execution_count": 687,
   "id": "63d83038",
   "metadata": {},
   "outputs": [],
   "source": [
    "sh3_df.drop(columns=['Patient Name','Patient ID','Blood Sugar','Date','Age'],axis=1,inplace=True)"
   ]
  },
  {
   "cell_type": "markdown",
   "id": "45fc3b27",
   "metadata": {},
   "source": [
    "### Checking and Removing outliers"
   ]
  },
  {
   "cell_type": "code",
   "execution_count": 688,
   "id": "b2b8410f",
   "metadata": {},
   "outputs": [
    {
     "data": {
      "text/plain": [
       "<AxesSubplot:xlabel='Body Temperature'>"
      ]
     },
     "execution_count": 688,
     "metadata": {},
     "output_type": "execute_result"
    },
    {
     "data": {
      "image/png": "[encoded data removed]",
      "text/plain": [
       "<Figure size 1296x720 with 6 Axes>"
      ]
     },
     "metadata": {
      "needs_background": "light"
     },
     "output_type": "display_data"
    }
   ],
   "source": [
    "fig, axes = plt.subplots(2, 3, figsize=(18, 10))\n",
    "\n",
    "fig.suptitle('Detecting Outliers')\n",
    "\n",
    "sns.boxplot(ax=axes[0, 0],x=sh3_df['Pulse'])\n",
    "sns.boxplot(ax=axes[0, 1],x=sh3_df['Blood Pressure'])\n",
    "sns.boxplot(ax=axes[0, 2],x=sh3_df['Heart Rate'])\n",
    "sns.boxplot(ax=axes[1, 0],x=sh3_df['Body Temperature'])"
   ]
  },
  {
   "cell_type": "code",
   "execution_count": 689,
   "id": "61dc88be",
   "metadata": {},
   "outputs": [],
   "source": [
    "remove_outlier(sh3_df,'Blood Pressure')"
   ]
  },
  {
   "cell_type": "code",
   "execution_count": 698,
   "id": "59cd4889",
   "metadata": {},
   "outputs": [
    {
     "data": {
      "text/plain": [
       "<AxesSubplot:xlabel='Blood Pressure'>"
      ]
     },
     "execution_count": 698,
     "metadata": {},
     "output_type": "execute_result"
    },
    {
     "data": {
      "image/png": "[encoded data removed]",
      "text/plain": [
       "<Figure size 432x288 with 1 Axes>"
      ]
     },
     "metadata": {
      "needs_background": "light"
     },
     "output_type": "display_data"
    }
   ],
   "source": [
    "sns.boxplot(x=sh3_df['Blood Pressure'])"
   ]
  },
  {
   "cell_type": "code",
   "execution_count": 856,
   "id": "dc1bd32c",
   "metadata": {},
   "outputs": [],
   "source": [
    "## Blood Sugar and Sugar Category are same. Difference is just in their types. Taking Sugar Category as Label "
   ]
  },
  {
   "cell_type": "code",
   "execution_count": 690,
   "id": "b07d0530",
   "metadata": {},
   "outputs": [],
   "source": [
    "X=sh3_df.drop(columns=['Sugar Catogery'],axis=1)\n",
    "y=sh3_df['Sugar Catogery']"
   ]
  },
  {
   "cell_type": "code",
   "execution_count": 691,
   "id": "30d736fd",
   "metadata": {},
   "outputs": [],
   "source": [
    "X_train, X_test, y_train, y_test=train_test_split(X,y,test_size=0.2,random_state=0)"
   ]
  },
  {
   "cell_type": "code",
   "execution_count": 692,
   "id": "c9197e2b",
   "metadata": {},
   "outputs": [],
   "source": [
    "X_train,X_test=transf_pipeline(X_train,X_test,X.columns)"
   ]
  },
  {
   "cell_type": "markdown",
   "id": "3669b2f8",
   "metadata": {},
   "source": [
    "### KNN"
   ]
  },
  {
   "cell_type": "code",
   "execution_count": 693,
   "id": "a117f30e",
   "metadata": {},
   "outputs": [
    {
     "name": "stdout",
     "output_type": "stream",
     "text": [
      "\n",
      "============================== Model Evaluation ==============================\n",
      "\n",
      "Classification report:\n",
      "               precision    recall  f1-score   support\n",
      "\n",
      "           0       0.45      0.60      0.51        30\n",
      "           1       0.27      0.18      0.22        22\n",
      "           2       0.28      0.24      0.26        21\n",
      "\n",
      "    accuracy                           0.37        73\n",
      "   macro avg       0.33      0.34      0.33        73\n",
      "weighted avg       0.35      0.37      0.35        73\n",
      "\n",
      "\n"
     ]
    },
    {
     "data": {
      "image/png": "[encoded data removed]",
      "text/plain": [
       "<Figure size 720x432 with 2 Axes>"
      ]
     },
     "metadata": {
      "needs_background": "light"
     },
     "output_type": "display_data"
    }
   ],
   "source": [
    "from sklearn.neighbors import KNeighborsClassifier\n",
    "classifier_KNN = KNeighborsClassifier(n_neighbors = 5)\n",
    "classifier_KNN.fit(X_train, y_train)\n",
    "y_pred=classifier_KNN.predict(X_test)\n",
    "accuracy=class_report(y_test,y_pred)\n",
    "conf_matrix(y_test,y_pred,accuracy)"
   ]
  },
  {
   "cell_type": "markdown",
   "id": "5e42c51c",
   "metadata": {},
   "source": [
    "### Naive Bayes"
   ]
  },
  {
   "cell_type": "code",
   "execution_count": 694,
   "id": "f76b9344",
   "metadata": {},
   "outputs": [
    {
     "name": "stdout",
     "output_type": "stream",
     "text": [
      "\n",
      "============================== Model Evaluation ==============================\n",
      "\n",
      "Classification report:\n",
      "               precision    recall  f1-score   support\n",
      "\n",
      "           0       0.45      0.30      0.36        30\n",
      "           1       0.38      0.36      0.37        22\n",
      "           2       0.25      0.38      0.30        21\n",
      "\n",
      "    accuracy                           0.34        73\n",
      "   macro avg       0.36      0.35      0.34        73\n",
      "weighted avg       0.37      0.34      0.35        73\n",
      "\n",
      "\n"
     ]
    },
    {
     "data": {
      "image/png": "[encoded data removed]",
      "text/plain": [
       "<Figure size 720x432 with 2 Axes>"
      ]
     },
     "metadata": {
      "needs_background": "light"
     },
     "output_type": "display_data"
    }
   ],
   "source": [
    "from sklearn.naive_bayes import GaussianNB\n",
    "classifier_NB = GaussianNB()\n",
    "classifier_NB.fit(X_train, y_train)\n",
    "y_pred = classifier_NB.predict(X_test)\n",
    "accuracy=class_report(y_test,y_pred)\n",
    "conf_matrix(y_test,y_pred,accuracy)"
   ]
  },
  {
   "cell_type": "markdown",
   "id": "24ed3c14",
   "metadata": {},
   "source": [
    "### SVM"
   ]
  },
  {
   "cell_type": "code",
   "execution_count": 695,
   "id": "f0871fe8",
   "metadata": {},
   "outputs": [
    {
     "name": "stdout",
     "output_type": "stream",
     "text": [
      "\n",
      "============================== Model Evaluation ==============================\n",
      "\n",
      "Classification report:\n",
      "               precision    recall  f1-score   support\n",
      "\n",
      "           0       0.41      0.50      0.45        30\n",
      "           1       0.25      0.14      0.18        22\n",
      "           2       0.33      0.38      0.36        21\n",
      "\n",
      "    accuracy                           0.36        73\n",
      "   macro avg       0.33      0.34      0.33        73\n",
      "weighted avg       0.34      0.36      0.34        73\n",
      "\n",
      "\n"
     ]
    },
    {
     "data": {
      "image/png": "[encoded data removed]",
      "text/plain": [
       "<Figure size 720x432 with 2 Axes>"
      ]
     },
     "metadata": {
      "needs_background": "light"
     },
     "output_type": "display_data"
    }
   ],
   "source": [
    "from sklearn.svm import SVC\n",
    "classifier_SVM = SVC(kernel = 'poly', random_state = 0)\n",
    "classifier_SVM.fit(X_train, y_train)\n",
    "y_pred = classifier_SVM.predict(X_test)\n",
    "accuracy=class_report(y_test,y_pred)\n",
    "conf_matrix(y_test,y_pred,accuracy)"
   ]
  },
  {
   "cell_type": "markdown",
   "id": "7c7fda3b",
   "metadata": {},
   "source": [
    "### Random Forest"
   ]
  },
  {
   "cell_type": "code",
   "execution_count": 696,
   "id": "761ce069",
   "metadata": {},
   "outputs": [
    {
     "name": "stdout",
     "output_type": "stream",
     "text": [
      "\n",
      "============================== Model Evaluation ==============================\n",
      "\n",
      "Classification report:\n",
      "               precision    recall  f1-score   support\n",
      "\n",
      "           0       0.22      0.27      0.24        30\n",
      "           1       0.26      0.23      0.24        22\n",
      "           2       0.24      0.19      0.21        21\n",
      "\n",
      "    accuracy                           0.23        73\n",
      "   macro avg       0.24      0.23      0.23        73\n",
      "weighted avg       0.24      0.23      0.23        73\n",
      "\n",
      "\n"
     ]
    },
    {
     "data": {
      "image/png": "[encoded data removed]",
      "text/plain": [
       "<Figure size 720x432 with 2 Axes>"
      ]
     },
     "metadata": {
      "needs_background": "light"
     },
     "output_type": "display_data"
    }
   ],
   "source": [
    "from sklearn.ensemble import RandomForestClassifier\n",
    "classifier_RF = RandomForestClassifier(n_estimators = 10, criterion = 'entropy', random_state = 0)\n",
    "classifier_RF.fit(X_train, y_train)\n",
    "y_pred = classifier_RF.predict(X_test)\n",
    "accuracy=class_report(y_test,y_pred)\n",
    "conf_matrix(y_test,y_pred,accuracy)"
   ]
  },
  {
   "cell_type": "markdown",
   "id": "f01bcb18",
   "metadata": {},
   "source": [
    "## Per Day Patient"
   ]
  },
  {
   "cell_type": "code",
   "execution_count": 714,
   "id": "87027087",
   "metadata": {},
   "outputs": [],
   "source": [
    "sh4_df=pd.read_excel(\"DataSet_DS_ML.xlsx\", header=1,sheet_name=3)"
   ]
  },
  {
   "cell_type": "code",
   "execution_count": 715,
   "id": "cc48058a",
   "metadata": {},
   "outputs": [
    {
     "data": {
      "text/html": [
       "<div>\n",
       "<style scoped>\n",
       "    .dataframe tbody tr th:only-of-type {\n",
       "        vertical-align: middle;\n",
       "    }\n",
       "\n",
       "    .dataframe tbody tr th {\n",
       "        vertical-align: top;\n",
       "    }\n",
       "\n",
       "    .dataframe thead th {\n",
       "        text-align: right;\n",
       "    }\n",
       "</style>\n",
       "<table border=\"1\" class=\"dataframe\">\n",
       "  <thead>\n",
       "    <tr style=\"text-align: right;\">\n",
       "      <th></th>\n",
       "      <th>Patient Name</th>\n",
       "      <th>Gender</th>\n",
       "      <th>Patient ID</th>\n",
       "      <th>Date</th>\n",
       "      <th>Age</th>\n",
       "      <th>Body Temperature</th>\n",
       "      <th>Heart Rate</th>\n",
       "      <th>Pulse</th>\n",
       "      <th>Blood Pressure</th>\n",
       "      <th>Sugar Catogery</th>\n",
       "      <th>Blood Sugar</th>\n",
       "    </tr>\n",
       "  </thead>\n",
       "  <tbody>\n",
       "    <tr>\n",
       "      <th>0</th>\n",
       "      <td>Amelia Nixon</td>\n",
       "      <td>female</td>\n",
       "      <td>400</td>\n",
       "      <td>2015-01-01 10:00:00.000</td>\n",
       "      <td>43</td>\n",
       "      <td>97</td>\n",
       "      <td>107</td>\n",
       "      <td>118</td>\n",
       "      <td>118</td>\n",
       "      <td>0</td>\n",
       "      <td>Low</td>\n",
       "    </tr>\n",
       "    <tr>\n",
       "      <th>1</th>\n",
       "      <td>Clara Hicks</td>\n",
       "      <td>female</td>\n",
       "      <td>401</td>\n",
       "      <td>2015-01-02 10:00:00.000</td>\n",
       "      <td>37</td>\n",
       "      <td>95</td>\n",
       "      <td>96</td>\n",
       "      <td>100</td>\n",
       "      <td>120</td>\n",
       "      <td>0</td>\n",
       "      <td>Low</td>\n",
       "    </tr>\n",
       "    <tr>\n",
       "      <th>2</th>\n",
       "      <td>Mason Brown</td>\n",
       "      <td>male</td>\n",
       "      <td>402</td>\n",
       "      <td>2015-01-03 09:59:59.995</td>\n",
       "      <td>44</td>\n",
       "      <td>97</td>\n",
       "      <td>111</td>\n",
       "      <td>105</td>\n",
       "      <td>115</td>\n",
       "      <td>1</td>\n",
       "      <td>Normal</td>\n",
       "    </tr>\n",
       "    <tr>\n",
       "      <th>3</th>\n",
       "      <td>Michael Rice</td>\n",
       "      <td>male</td>\n",
       "      <td>403</td>\n",
       "      <td>2015-01-04 09:59:59.995</td>\n",
       "      <td>36</td>\n",
       "      <td>98</td>\n",
       "      <td>95</td>\n",
       "      <td>66</td>\n",
       "      <td>88</td>\n",
       "      <td>0</td>\n",
       "      <td>Low</td>\n",
       "    </tr>\n",
       "    <tr>\n",
       "      <th>4</th>\n",
       "      <td>Eleanor Ritter</td>\n",
       "      <td>female</td>\n",
       "      <td>404</td>\n",
       "      <td>2015-01-05 09:59:59.995</td>\n",
       "      <td>45</td>\n",
       "      <td>95</td>\n",
       "      <td>92</td>\n",
       "      <td>99</td>\n",
       "      <td>86</td>\n",
       "      <td>1</td>\n",
       "      <td>Normal</td>\n",
       "    </tr>\n",
       "  </tbody>\n",
       "</table>\n",
       "</div>"
      ],
      "text/plain": [
       "     Patient Name  Gender  Patient ID                    Date  Age  \\\n",
       "0    Amelia Nixon  female         400 2015-01-01 10:00:00.000   43   \n",
       "1     Clara Hicks  female         401 2015-01-02 10:00:00.000   37   \n",
       "2     Mason Brown    male         402 2015-01-03 09:59:59.995   44   \n",
       "3    Michael Rice    male         403 2015-01-04 09:59:59.995   36   \n",
       "4  Eleanor Ritter  female         404 2015-01-05 09:59:59.995   45   \n",
       "\n",
       "   Body Temperature  Heart Rate  Pulse  Blood Pressure  Sugar Catogery  \\\n",
       "0                97         107    118             118               0   \n",
       "1                95          96    100             120               0   \n",
       "2                97         111    105             115               1   \n",
       "3                98          95     66              88               0   \n",
       "4                95          92     99              86               1   \n",
       "\n",
       "  Blood Sugar  \n",
       "0         Low  \n",
       "1         Low  \n",
       "2      Normal  \n",
       "3         Low  \n",
       "4      Normal  "
      ]
     },
     "execution_count": 715,
     "metadata": {},
     "output_type": "execute_result"
    }
   ],
   "source": [
    "sh4_df.head()"
   ]
  },
  {
   "cell_type": "code",
   "execution_count": 716,
   "id": "b3233ef7",
   "metadata": {},
   "outputs": [
    {
     "name": "stdout",
     "output_type": "stream",
     "text": [
      "<class 'pandas.core.frame.DataFrame'>\n",
      "RangeIndex: 2000 entries, 0 to 1999\n",
      "Data columns (total 11 columns):\n",
      " #   Column            Non-Null Count  Dtype         \n",
      "---  ------            --------------  -----         \n",
      " 0   Patient Name      2000 non-null   object        \n",
      " 1   Gender            2000 non-null   object        \n",
      " 2   Patient ID        2000 non-null   int64         \n",
      " 3   Date              2000 non-null   datetime64[ns]\n",
      " 4   Age               2000 non-null   int64         \n",
      " 5   Body Temperature  2000 non-null   int64         \n",
      " 6   Heart Rate        2000 non-null   int64         \n",
      " 7   Pulse             2000 non-null   int64         \n",
      " 8   Blood Pressure    2000 non-null   int64         \n",
      " 9   Sugar Catogery    2000 non-null   int64         \n",
      " 10  Blood Sugar       2000 non-null   object        \n",
      "dtypes: datetime64[ns](1), int64(7), object(3)\n",
      "memory usage: 172.0+ KB\n"
     ]
    }
   ],
   "source": [
    "sh4_df.info()"
   ]
  },
  {
   "cell_type": "code",
   "execution_count": 857,
   "id": "05716c87",
   "metadata": {},
   "outputs": [],
   "source": [
    "## Adding features of day, month,year"
   ]
  },
  {
   "cell_type": "code",
   "execution_count": 717,
   "id": "7d79d7e4",
   "metadata": {},
   "outputs": [],
   "source": [
    "sh4_df['Year']=sh4_df.Date.dt.year"
   ]
  },
  {
   "cell_type": "code",
   "execution_count": 718,
   "id": "ea123893",
   "metadata": {},
   "outputs": [],
   "source": [
    "sh4_df['Month']=sh4_df.Date.dt.month"
   ]
  },
  {
   "cell_type": "code",
   "execution_count": 719,
   "id": "7721ba30",
   "metadata": {},
   "outputs": [],
   "source": [
    "sh4_df['Day']=sh4_df.Date.dt.day"
   ]
  },
  {
   "cell_type": "code",
   "execution_count": 837,
   "id": "4c371a30",
   "metadata": {},
   "outputs": [
    {
     "data": {
      "text/html": [
       "<div>\n",
       "<style scoped>\n",
       "    .dataframe tbody tr th:only-of-type {\n",
       "        vertical-align: middle;\n",
       "    }\n",
       "\n",
       "    .dataframe tbody tr th {\n",
       "        vertical-align: top;\n",
       "    }\n",
       "\n",
       "    .dataframe thead th {\n",
       "        text-align: right;\n",
       "    }\n",
       "</style>\n",
       "<table border=\"1\" class=\"dataframe\">\n",
       "  <thead>\n",
       "    <tr style=\"text-align: right;\">\n",
       "      <th></th>\n",
       "      <th>Patient Name</th>\n",
       "      <th>Gender</th>\n",
       "      <th>Patient ID</th>\n",
       "      <th>Date</th>\n",
       "      <th>Age</th>\n",
       "      <th>Body Temperature</th>\n",
       "      <th>Heart Rate</th>\n",
       "      <th>Pulse</th>\n",
       "      <th>Blood Pressure</th>\n",
       "      <th>Sugar Catogery</th>\n",
       "      <th>Blood Sugar</th>\n",
       "      <th>Year</th>\n",
       "      <th>Month</th>\n",
       "      <th>Day</th>\n",
       "    </tr>\n",
       "  </thead>\n",
       "  <tbody>\n",
       "    <tr>\n",
       "      <th>0</th>\n",
       "      <td>Amelia Nixon</td>\n",
       "      <td>0</td>\n",
       "      <td>400</td>\n",
       "      <td>2015-01-01 10:00:00.000</td>\n",
       "      <td>43</td>\n",
       "      <td>97</td>\n",
       "      <td>107</td>\n",
       "      <td>118</td>\n",
       "      <td>118.0</td>\n",
       "      <td>0</td>\n",
       "      <td>Low</td>\n",
       "      <td>2015</td>\n",
       "      <td>1</td>\n",
       "      <td>1</td>\n",
       "    </tr>\n",
       "    <tr>\n",
       "      <th>1</th>\n",
       "      <td>Clara Hicks</td>\n",
       "      <td>0</td>\n",
       "      <td>401</td>\n",
       "      <td>2015-01-02 10:00:00.000</td>\n",
       "      <td>37</td>\n",
       "      <td>95</td>\n",
       "      <td>96</td>\n",
       "      <td>100</td>\n",
       "      <td>120.0</td>\n",
       "      <td>0</td>\n",
       "      <td>Low</td>\n",
       "      <td>2015</td>\n",
       "      <td>1</td>\n",
       "      <td>2</td>\n",
       "    </tr>\n",
       "    <tr>\n",
       "      <th>2</th>\n",
       "      <td>Mason Brown</td>\n",
       "      <td>1</td>\n",
       "      <td>402</td>\n",
       "      <td>2015-01-03 09:59:59.995</td>\n",
       "      <td>44</td>\n",
       "      <td>97</td>\n",
       "      <td>111</td>\n",
       "      <td>105</td>\n",
       "      <td>115.0</td>\n",
       "      <td>1</td>\n",
       "      <td>Normal</td>\n",
       "      <td>2015</td>\n",
       "      <td>1</td>\n",
       "      <td>3</td>\n",
       "    </tr>\n",
       "    <tr>\n",
       "      <th>3</th>\n",
       "      <td>Michael Rice</td>\n",
       "      <td>1</td>\n",
       "      <td>403</td>\n",
       "      <td>2015-01-04 09:59:59.995</td>\n",
       "      <td>36</td>\n",
       "      <td>98</td>\n",
       "      <td>95</td>\n",
       "      <td>66</td>\n",
       "      <td>88.0</td>\n",
       "      <td>0</td>\n",
       "      <td>Low</td>\n",
       "      <td>2015</td>\n",
       "      <td>1</td>\n",
       "      <td>4</td>\n",
       "    </tr>\n",
       "    <tr>\n",
       "      <th>4</th>\n",
       "      <td>Eleanor Ritter</td>\n",
       "      <td>0</td>\n",
       "      <td>404</td>\n",
       "      <td>2015-01-05 09:59:59.995</td>\n",
       "      <td>45</td>\n",
       "      <td>95</td>\n",
       "      <td>92</td>\n",
       "      <td>99</td>\n",
       "      <td>86.0</td>\n",
       "      <td>1</td>\n",
       "      <td>Normal</td>\n",
       "      <td>2015</td>\n",
       "      <td>1</td>\n",
       "      <td>5</td>\n",
       "    </tr>\n",
       "  </tbody>\n",
       "</table>\n",
       "</div>"
      ],
      "text/plain": [
       "     Patient Name  Gender  Patient ID                    Date  Age  \\\n",
       "0    Amelia Nixon       0         400 2015-01-01 10:00:00.000   43   \n",
       "1     Clara Hicks       0         401 2015-01-02 10:00:00.000   37   \n",
       "2     Mason Brown       1         402 2015-01-03 09:59:59.995   44   \n",
       "3    Michael Rice       1         403 2015-01-04 09:59:59.995   36   \n",
       "4  Eleanor Ritter       0         404 2015-01-05 09:59:59.995   45   \n",
       "\n",
       "   Body Temperature  Heart Rate  Pulse  Blood Pressure  Sugar Catogery  \\\n",
       "0                97         107    118           118.0               0   \n",
       "1                95          96    100           120.0               0   \n",
       "2                97         111    105           115.0               1   \n",
       "3                98          95     66            88.0               0   \n",
       "4                95          92     99            86.0               1   \n",
       "\n",
       "  Blood Sugar  Year  Month  Day  \n",
       "0         Low  2015      1    1  \n",
       "1         Low  2015      1    2  \n",
       "2      Normal  2015      1    3  \n",
       "3         Low  2015      1    4  \n",
       "4      Normal  2015      1    5  "
      ]
     },
     "execution_count": 837,
     "metadata": {},
     "output_type": "execute_result"
    }
   ],
   "source": [
    "sh4_df.head()"
   ]
  },
  {
   "cell_type": "markdown",
   "id": "df130c13",
   "metadata": {},
   "source": [
    "### Detecting and Removing Outlier"
   ]
  },
  {
   "cell_type": "code",
   "execution_count": 720,
   "id": "ba992154",
   "metadata": {},
   "outputs": [
    {
     "data": {
      "text/plain": [
       "<AxesSubplot:xlabel='Age'>"
      ]
     },
     "execution_count": 720,
     "metadata": {},
     "output_type": "execute_result"
    },
    {
     "data": {
      "image/png": "[encoded data removed]",
      "text/plain": [
       "<Figure size 1296x720 with 6 Axes>"
      ]
     },
     "metadata": {
      "needs_background": "light"
     },
     "output_type": "display_data"
    }
   ],
   "source": [
    "fig, axes = plt.subplots(2, 3, figsize=(18, 10))\n",
    "\n",
    "fig.suptitle('Detecting Outliers')\n",
    "\n",
    "sns.boxplot(ax=axes[0, 0],x=sh4_df['Pulse'])\n",
    "sns.boxplot(ax=axes[0, 1],x=sh4_df['Blood Pressure'])\n",
    "sns.boxplot(ax=axes[0, 2],x=sh4_df['Heart Rate'])\n",
    "sns.boxplot(ax=axes[1, 0],x=sh4_df['Body Temperature'])\n",
    "sns.boxplot(ax=axes[1, 1],x=sh4_df['Age'])"
   ]
  },
  {
   "cell_type": "code",
   "execution_count": 721,
   "id": "c36922de",
   "metadata": {},
   "outputs": [],
   "source": [
    "remove_outlier(sh4_df,'Blood Pressure')"
   ]
  },
  {
   "cell_type": "code",
   "execution_count": 722,
   "id": "85410dbe",
   "metadata": {},
   "outputs": [
    {
     "data": {
      "text/plain": [
       "<AxesSubplot:xlabel='Blood Pressure'>"
      ]
     },
     "execution_count": 722,
     "metadata": {},
     "output_type": "execute_result"
    },
    {
     "data": {
      "image/png": "[encoded data removed]",
      "text/plain": [
       "<Figure size 432x288 with 1 Axes>"
      ]
     },
     "metadata": {
      "needs_background": "light"
     },
     "output_type": "display_data"
    }
   ],
   "source": [
    "sns.boxplot(x=sh2_df['Blood Pressure'])"
   ]
  },
  {
   "cell_type": "code",
   "execution_count": 723,
   "id": "a7b9131f",
   "metadata": {},
   "outputs": [
    {
     "data": {
      "image/png": "[encoded data removed]",
      "text/plain": [
       "<Figure size 432x288 with 1 Axes>"
      ]
     },
     "metadata": {
      "needs_background": "light"
     },
     "output_type": "display_data"
    }
   ],
   "source": [
    "ax= sns.barplot(x=\"Gender\", y=\"Sugar Catogery\", data=sh4_df)"
   ]
  },
  {
   "cell_type": "code",
   "execution_count": 770,
   "id": "6f6bd67d",
   "metadata": {},
   "outputs": [
    {
     "data": {
      "text/plain": [
       "<AxesSubplot:xlabel='Year,Sugar Catogery'>"
      ]
     },
     "execution_count": 770,
     "metadata": {},
     "output_type": "execute_result"
    },
    {
     "data": {
      "image/png": "[encoded data removed]",
      "text/plain": [
       "<Figure size 1440x432 with 1 Axes>"
      ]
     },
     "metadata": {
      "needs_background": "light"
     },
     "output_type": "display_data"
    }
   ],
   "source": [
    "sh4_df.groupby('Year')['Sugar Catogery'].value_counts().plot(kind='bar',figsize=(20,6))"
   ]
  },
  {
   "cell_type": "code",
   "execution_count": 782,
   "id": "df96854a",
   "metadata": {},
   "outputs": [
    {
     "data": {
      "text/plain": [
       "<AxesSubplot:xlabel='Year'>"
      ]
     },
     "execution_count": 782,
     "metadata": {},
     "output_type": "execute_result"
    },
    {
     "data": {
      "image/png": "[encoded data removed]",
      "text/plain": [
       "<Figure size 864x288 with 1 Axes>"
      ]
     },
     "metadata": {
      "needs_background": "light"
     },
     "output_type": "display_data"
    }
   ],
   "source": [
    "sh4_df_year=sh4_df.pivot_table(index='Year', columns='Sugar Catogery',  aggfunc='size')\n",
    "sh4_df_year.plot(kind='bar',figsize=(12,4))"
   ]
  },
  {
   "cell_type": "code",
   "execution_count": 858,
   "id": "955c4f07",
   "metadata": {},
   "outputs": [],
   "source": [
    "## Trend over past 5 years for blood sugar level"
   ]
  },
  {
   "cell_type": "code",
   "execution_count": 781,
   "id": "1fa65f6b",
   "metadata": {},
   "outputs": [
    {
     "data": {
      "text/plain": [
       "<AxesSubplot:xlabel='Month'>"
      ]
     },
     "execution_count": 781,
     "metadata": {},
     "output_type": "execute_result"
    },
    {
     "data": {
      "image/png": "[encoded data removed]",
      "text/plain": [
       "<Figure size 864x288 with 1 Axes>"
      ]
     },
     "metadata": {
      "needs_background": "light"
     },
     "output_type": "display_data"
    }
   ],
   "source": [
    "sh4_df_month=sh4_df.pivot_table(index='Month', columns='Sugar Catogery',  aggfunc='size')\n",
    "sh4_df_month.plot(kind='bar',figsize=(12,4))"
   ]
  },
  {
   "cell_type": "code",
   "execution_count": 839,
   "id": "592d69de",
   "metadata": {},
   "outputs": [
    {
     "data": {
      "text/plain": [
       "<AxesSubplot:xlabel='Day'>"
      ]
     },
     "execution_count": 839,
     "metadata": {},
     "output_type": "execute_result"
    },
    {
     "data": {
      "image/png": "[encoded data removed]",
      "text/plain": [
       "<Figure size 1440x432 with 1 Axes>"
      ]
     },
     "metadata": {
      "needs_background": "light"
     },
     "output_type": "display_data"
    }
   ],
   "source": [
    "sh4_df_day=sh4_df.pivot_table(index='Day', columns='Sugar Catogery',  aggfunc='size')\n",
    "sh4_df_day.plot(kind='bar',figsize=(20,6))"
   ]
  },
  {
   "cell_type": "code",
   "execution_count": 725,
   "id": "fe92d936",
   "metadata": {},
   "outputs": [],
   "source": [
    "sh4_df['Gender'].replace({'female':0,'male':1},inplace=True)"
   ]
  },
  {
   "cell_type": "code",
   "execution_count": 742,
   "id": "bf2805a7",
   "metadata": {},
   "outputs": [],
   "source": [
    "X=sh4_df.drop(columns=['Sugar Catogery','Date','Blood Sugar','Patient ID','Patient Name'],axis=1)\n",
    "y=sh4_df['Sugar Catogery']"
   ]
  },
  {
   "cell_type": "code",
   "execution_count": 743,
   "id": "43d31f7c",
   "metadata": {},
   "outputs": [],
   "source": [
    "X_train, X_test, y_train, y_test=train_test_split(X,y,test_size=0.2,random_state=0)"
   ]
  },
  {
   "cell_type": "code",
   "execution_count": 744,
   "id": "4be4e09c",
   "metadata": {},
   "outputs": [
    {
     "data": {
      "text/html": [
       "<div>\n",
       "<style scoped>\n",
       "    .dataframe tbody tr th:only-of-type {\n",
       "        vertical-align: middle;\n",
       "    }\n",
       "\n",
       "    .dataframe tbody tr th {\n",
       "        vertical-align: top;\n",
       "    }\n",
       "\n",
       "    .dataframe thead th {\n",
       "        text-align: right;\n",
       "    }\n",
       "</style>\n",
       "<table border=\"1\" class=\"dataframe\">\n",
       "  <thead>\n",
       "    <tr style=\"text-align: right;\">\n",
       "      <th></th>\n",
       "      <th>Gender</th>\n",
       "      <th>Age</th>\n",
       "      <th>Body Temperature</th>\n",
       "      <th>Heart Rate</th>\n",
       "      <th>Pulse</th>\n",
       "      <th>Blood Pressure</th>\n",
       "      <th>Year</th>\n",
       "      <th>Month</th>\n",
       "      <th>Day</th>\n",
       "    </tr>\n",
       "  </thead>\n",
       "  <tbody>\n",
       "    <tr>\n",
       "      <th>582</th>\n",
       "      <td>1</td>\n",
       "      <td>36</td>\n",
       "      <td>97</td>\n",
       "      <td>87</td>\n",
       "      <td>80</td>\n",
       "      <td>116.0</td>\n",
       "      <td>2016</td>\n",
       "      <td>8</td>\n",
       "      <td>5</td>\n",
       "    </tr>\n",
       "    <tr>\n",
       "      <th>159</th>\n",
       "      <td>1</td>\n",
       "      <td>45</td>\n",
       "      <td>99</td>\n",
       "      <td>93</td>\n",
       "      <td>73</td>\n",
       "      <td>94.0</td>\n",
       "      <td>2015</td>\n",
       "      <td>6</td>\n",
       "      <td>9</td>\n",
       "    </tr>\n",
       "    <tr>\n",
       "      <th>1827</th>\n",
       "      <td>0</td>\n",
       "      <td>46</td>\n",
       "      <td>98</td>\n",
       "      <td>116</td>\n",
       "      <td>117</td>\n",
       "      <td>96.0</td>\n",
       "      <td>2020</td>\n",
       "      <td>1</td>\n",
       "      <td>2</td>\n",
       "    </tr>\n",
       "    <tr>\n",
       "      <th>318</th>\n",
       "      <td>0</td>\n",
       "      <td>48</td>\n",
       "      <td>100</td>\n",
       "      <td>61</td>\n",
       "      <td>94</td>\n",
       "      <td>153.5</td>\n",
       "      <td>2015</td>\n",
       "      <td>11</td>\n",
       "      <td>15</td>\n",
       "    </tr>\n",
       "    <tr>\n",
       "      <th>708</th>\n",
       "      <td>1</td>\n",
       "      <td>46</td>\n",
       "      <td>96</td>\n",
       "      <td>89</td>\n",
       "      <td>69</td>\n",
       "      <td>85.0</td>\n",
       "      <td>2016</td>\n",
       "      <td>12</td>\n",
       "      <td>9</td>\n",
       "    </tr>\n",
       "  </tbody>\n",
       "</table>\n",
       "</div>"
      ],
      "text/plain": [
       "      Gender  Age  Body Temperature  Heart Rate  Pulse  Blood Pressure  Year  \\\n",
       "582        1   36                97          87     80           116.0  2016   \n",
       "159        1   45                99          93     73            94.0  2015   \n",
       "1827       0   46                98         116    117            96.0  2020   \n",
       "318        0   48               100          61     94           153.5  2015   \n",
       "708        1   46                96          89     69            85.0  2016   \n",
       "\n",
       "      Month  Day  \n",
       "582       8    5  \n",
       "159       6    9  \n",
       "1827      1    2  \n",
       "318      11   15  \n",
       "708      12    9  "
      ]
     },
     "execution_count": 744,
     "metadata": {},
     "output_type": "execute_result"
    }
   ],
   "source": [
    "X_train.head()"
   ]
  },
  {
   "cell_type": "code",
   "execution_count": 745,
   "id": "a56b8b1b",
   "metadata": {},
   "outputs": [],
   "source": [
    "X_train,X_test=transf_pipeline(X_train,X_test,X.columns)"
   ]
  },
  {
   "cell_type": "markdown",
   "id": "1f038a2b",
   "metadata": {},
   "source": [
    "### KNN"
   ]
  },
  {
   "cell_type": "code",
   "execution_count": 746,
   "id": "120178b7",
   "metadata": {},
   "outputs": [
    {
     "name": "stdout",
     "output_type": "stream",
     "text": [
      "\n",
      "============================== Model Evaluation ==============================\n",
      "\n",
      "Classification report:\n",
      "               precision    recall  f1-score   support\n",
      "\n",
      "           0       0.34      0.41      0.37       135\n",
      "           1       0.28      0.35      0.32       130\n",
      "           2       0.29      0.16      0.20       135\n",
      "\n",
      "    accuracy                           0.31       400\n",
      "   macro avg       0.30      0.31      0.30       400\n",
      "weighted avg       0.30      0.31      0.30       400\n",
      "\n",
      "\n"
     ]
    },
    {
     "data": {
      "image/png": "[encoded data removed]",
      "text/plain": [
       "<Figure size 720x432 with 2 Axes>"
      ]
     },
     "metadata": {
      "needs_background": "light"
     },
     "output_type": "display_data"
    }
   ],
   "source": [
    "from sklearn.neighbors import KNeighborsClassifier\n",
    "classifier_KNN = KNeighborsClassifier(n_neighbors = 5)\n",
    "classifier_KNN.fit(X_train, y_train)\n",
    "y_pred=classifier_KNN.predict(X_test)\n",
    "accuracy=class_report(y_test,y_pred)\n",
    "conf_matrix(y_test,y_pred,accuracy)\n"
   ]
  },
  {
   "cell_type": "markdown",
   "id": "05ca49d3",
   "metadata": {},
   "source": [
    "### Naive Bayes"
   ]
  },
  {
   "cell_type": "code",
   "execution_count": 747,
   "id": "6c5f33a4",
   "metadata": {},
   "outputs": [
    {
     "name": "stdout",
     "output_type": "stream",
     "text": [
      "\n",
      "============================== Model Evaluation ==============================\n",
      "\n",
      "Classification report:\n",
      "               precision    recall  f1-score   support\n",
      "\n",
      "           0       0.37      0.26      0.31       135\n",
      "           1       0.28      0.36      0.31       130\n",
      "           2       0.37      0.37      0.37       135\n",
      "\n",
      "    accuracy                           0.33       400\n",
      "   macro avg       0.34      0.33      0.33       400\n",
      "weighted avg       0.34      0.33      0.33       400\n",
      "\n",
      "\n"
     ]
    },
    {
     "data": {
      "image/png": "[encoded data removed]",
      "text/plain": [
       "<Figure size 720x432 with 2 Axes>"
      ]
     },
     "metadata": {
      "needs_background": "light"
     },
     "output_type": "display_data"
    }
   ],
   "source": [
    "from sklearn.naive_bayes import GaussianNB\n",
    "classifier_NB = GaussianNB()\n",
    "classifier_NB.fit(X_train, y_train)\n",
    "y_pred = classifier_NB.predict(X_test)\n",
    "accuracy=class_report(y_test,y_pred)\n",
    "conf_matrix(y_test,y_pred,accuracy)"
   ]
  },
  {
   "cell_type": "markdown",
   "id": "5d88619b",
   "metadata": {},
   "source": [
    "### SVM"
   ]
  },
  {
   "cell_type": "code",
   "execution_count": 748,
   "id": "61eb6cab",
   "metadata": {},
   "outputs": [
    {
     "name": "stdout",
     "output_type": "stream",
     "text": [
      "\n",
      "============================== Model Evaluation ==============================\n",
      "\n",
      "Classification report:\n",
      "               precision    recall  f1-score   support\n",
      "\n",
      "           0       0.35      0.33      0.34       135\n",
      "           1       0.26      0.35      0.30       130\n",
      "           2       0.31      0.23      0.26       135\n",
      "\n",
      "    accuracy                           0.30       400\n",
      "   macro avg       0.31      0.30      0.30       400\n",
      "weighted avg       0.31      0.30      0.30       400\n",
      "\n",
      "\n"
     ]
    },
    {
     "data": {
      "image/png": "[encoded data removed]",
      "text/plain": [
       "<Figure size 720x432 with 2 Axes>"
      ]
     },
     "metadata": {
      "needs_background": "light"
     },
     "output_type": "display_data"
    }
   ],
   "source": [
    "from sklearn.svm import SVC\n",
    "classifier_SVM = SVC(kernel = 'poly', random_state = 0)\n",
    "classifier_SVM.fit(X_train, y_train)\n",
    "y_pred = classifier_SVM.predict(X_test)\n",
    "accuracy=class_report(y_test,y_pred)\n",
    "conf_matrix(y_test,y_pred,accuracy)"
   ]
  },
  {
   "cell_type": "markdown",
   "id": "f8a466cb",
   "metadata": {},
   "source": [
    "### Random Forest"
   ]
  },
  {
   "cell_type": "code",
   "execution_count": 749,
   "id": "9e98aa8b",
   "metadata": {},
   "outputs": [
    {
     "name": "stdout",
     "output_type": "stream",
     "text": [
      "\n",
      "============================== Model Evaluation ==============================\n",
      "\n",
      "Classification report:\n",
      "               precision    recall  f1-score   support\n",
      "\n",
      "           0       0.33      0.36      0.34       135\n",
      "           1       0.32      0.38      0.35       130\n",
      "           2       0.33      0.24      0.28       135\n",
      "\n",
      "    accuracy                           0.33       400\n",
      "   macro avg       0.33      0.33      0.32       400\n",
      "weighted avg       0.33      0.33      0.32       400\n",
      "\n",
      "\n"
     ]
    },
    {
     "data": {
      "image/png": "[encoded data removed]",
      "text/plain": [
       "<Figure size 720x432 with 2 Axes>"
      ]
     },
     "metadata": {
      "needs_background": "light"
     },
     "output_type": "display_data"
    }
   ],
   "source": [
    "from sklearn.ensemble import RandomForestClassifier\n",
    "classifier_RF = RandomForestClassifier(n_estimators = 10, criterion = 'entropy', random_state = 0)\n",
    "classifier_RF.fit(X_train, y_train)\n",
    "y_pred = classifier_RF.predict(X_test)\n",
    "accuracy=class_report(y_test,y_pred)\n",
    "conf_matrix(y_test,y_pred,accuracy)"
   ]
  },
  {
   "cell_type": "code",
   "execution_count": null,
   "id": "a212b665",
   "metadata": {},
   "outputs": [],
   "source": []
  }
 ],
 "metadata": {
  "kernelspec": {
   "display_name": "Python 3 (ipykernel)",
   "language": "python",
   "name": "python3"
  },
  "language_info": {
   "codemirror_mode": {
    "name": "ipython",
    "version": 3
   },
   "file_extension": ".py",
   "mimetype": "text/x-python",
   "name": "python",
   "nbconvert_exporter": "python",
   "pygments_lexer": "ipython3",
   "version": "3.9.7"
  }
 },
 "nbformat": 4,
 "nbformat_minor": 5
}
